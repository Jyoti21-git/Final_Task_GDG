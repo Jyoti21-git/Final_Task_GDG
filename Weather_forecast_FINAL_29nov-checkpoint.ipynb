{
 "cells": [
  {
   "cell_type": "code",
   "execution_count": 49,
   "id": "447edee2-c337-4244-8098-1a1be8f3af01",
   "metadata": {},
   "outputs": [],
   "source": [
    "import pandas as p\n",
    "import numpy as n\n",
    "import matplotlib.pyplot as plt\n",
    "import seaborn as s\n",
    "import warnings\n",
    "warnings.filterwarnings('ignore')"
   ]
  },
  {
   "cell_type": "code",
   "execution_count": 50,
   "id": "7358f746-311a-4196-aefa-72527d500bbe",
   "metadata": {},
   "outputs": [
    {
     "data": {
      "text/html": [
       "<div>\n",
       "<style scoped>\n",
       "    .dataframe tbody tr th:only-of-type {\n",
       "        vertical-align: middle;\n",
       "    }\n",
       "\n",
       "    .dataframe tbody tr th {\n",
       "        vertical-align: top;\n",
       "    }\n",
       "\n",
       "    .dataframe thead th {\n",
       "        text-align: right;\n",
       "    }\n",
       "</style>\n",
       "<table border=\"1\" class=\"dataframe\">\n",
       "  <thead>\n",
       "    <tr style=\"text-align: right;\">\n",
       "      <th></th>\n",
       "      <th>Date/Time</th>\n",
       "      <th>Temp_C</th>\n",
       "      <th>Dew Point Temp_C</th>\n",
       "      <th>Rel Hum_%</th>\n",
       "      <th>Wind Speed_km/h</th>\n",
       "      <th>Visibility_km</th>\n",
       "      <th>Press_kPa</th>\n",
       "      <th>Weather</th>\n",
       "    </tr>\n",
       "  </thead>\n",
       "  <tbody>\n",
       "    <tr>\n",
       "      <th>0</th>\n",
       "      <td>1/1/2012 00:00</td>\n",
       "      <td>-1.8</td>\n",
       "      <td>-3.9</td>\n",
       "      <td>86</td>\n",
       "      <td>4</td>\n",
       "      <td>8.0</td>\n",
       "      <td>101.24</td>\n",
       "      <td>Fog</td>\n",
       "    </tr>\n",
       "    <tr>\n",
       "      <th>1</th>\n",
       "      <td>1/1/2012 01:00</td>\n",
       "      <td>-1.8</td>\n",
       "      <td>-3.7</td>\n",
       "      <td>87</td>\n",
       "      <td>4</td>\n",
       "      <td>8.0</td>\n",
       "      <td>101.24</td>\n",
       "      <td>Fog</td>\n",
       "    </tr>\n",
       "    <tr>\n",
       "      <th>2</th>\n",
       "      <td>1/1/2012 02:00</td>\n",
       "      <td>-1.8</td>\n",
       "      <td>-3.4</td>\n",
       "      <td>89</td>\n",
       "      <td>7</td>\n",
       "      <td>4.0</td>\n",
       "      <td>101.26</td>\n",
       "      <td>Freezing Drizzle,Fog</td>\n",
       "    </tr>\n",
       "    <tr>\n",
       "      <th>3</th>\n",
       "      <td>1/1/2012 03:00</td>\n",
       "      <td>-1.5</td>\n",
       "      <td>-3.2</td>\n",
       "      <td>88</td>\n",
       "      <td>6</td>\n",
       "      <td>4.0</td>\n",
       "      <td>101.27</td>\n",
       "      <td>Freezing Drizzle,Fog</td>\n",
       "    </tr>\n",
       "    <tr>\n",
       "      <th>4</th>\n",
       "      <td>1/1/2012 04:00</td>\n",
       "      <td>-1.5</td>\n",
       "      <td>-3.3</td>\n",
       "      <td>88</td>\n",
       "      <td>7</td>\n",
       "      <td>4.8</td>\n",
       "      <td>101.23</td>\n",
       "      <td>Fog</td>\n",
       "    </tr>\n",
       "  </tbody>\n",
       "</table>\n",
       "</div>"
      ],
      "text/plain": [
       "        Date/Time  Temp_C  Dew Point Temp_C  Rel Hum_%  Wind Speed_km/h  \\\n",
       "0  1/1/2012 00:00    -1.8              -3.9         86                4   \n",
       "1  1/1/2012 01:00    -1.8              -3.7         87                4   \n",
       "2  1/1/2012 02:00    -1.8              -3.4         89                7   \n",
       "3  1/1/2012 03:00    -1.5              -3.2         88                6   \n",
       "4  1/1/2012 04:00    -1.5              -3.3         88                7   \n",
       "\n",
       "   Visibility_km  Press_kPa               Weather  \n",
       "0            8.0     101.24                   Fog  \n",
       "1            8.0     101.24                   Fog  \n",
       "2            4.0     101.26  Freezing Drizzle,Fog  \n",
       "3            4.0     101.27  Freezing Drizzle,Fog  \n",
       "4            4.8     101.23                   Fog  "
      ]
     },
     "execution_count": 50,
     "metadata": {},
     "output_type": "execute_result"
    }
   ],
   "source": [
    "d=p.read_csv(\"https://docs.google.com/spreadsheets/d/e/2PACX-1vRPPDnlmuRp9GYolf5wj0pg6oN6_SF4Dzh668_CuglFFZFP5hj9RZegP8Xl8ri-5r9WXD6qpm-gdd88/pub?output=csv\")\n",
    "d.head()"
   ]
  },
  {
   "cell_type": "code",
   "execution_count": 51,
   "id": "683653f0-bc5b-4fed-9fd5-ecae042625ff",
   "metadata": {},
   "outputs": [
    {
     "name": "stdout",
     "output_type": "stream",
     "text": [
      "(8784, 8)\n"
     ]
    }
   ],
   "source": [
    "print(d.shape)"
   ]
  },
  {
   "cell_type": "code",
   "execution_count": 52,
   "id": "64fdbe04-acba-44ef-b1e0-4d81433f3b20",
   "metadata": {},
   "outputs": [
    {
     "name": "stdout",
     "output_type": "stream",
     "text": [
      "Date/Time            object\n",
      "Temp_C              float64\n",
      "Dew Point Temp_C    float64\n",
      "Rel Hum_%             int64\n",
      "Wind Speed_km/h       int64\n",
      "Visibility_km       float64\n",
      "Press_kPa           float64\n",
      "Weather              object\n",
      "dtype: object\n"
     ]
    }
   ],
   "source": [
    "print(d.dtypes)"
   ]
  },
  {
   "cell_type": "code",
   "execution_count": 53,
   "id": "8bf69cf6-019b-4ee2-9867-fd51a851e4e0",
   "metadata": {},
   "outputs": [
    {
     "name": "stdout",
     "output_type": "stream",
     "text": [
      "<class 'pandas.core.frame.DataFrame'>\n",
      "RangeIndex: 8784 entries, 0 to 8783\n",
      "Data columns (total 8 columns):\n",
      " #   Column            Non-Null Count  Dtype  \n",
      "---  ------            --------------  -----  \n",
      " 0   Date/Time         8784 non-null   object \n",
      " 1   Temp_C            8784 non-null   float64\n",
      " 2   Dew Point Temp_C  8784 non-null   float64\n",
      " 3   Rel Hum_%         8784 non-null   int64  \n",
      " 4   Wind Speed_km/h   8784 non-null   int64  \n",
      " 5   Visibility_km     8784 non-null   float64\n",
      " 6   Press_kPa         8784 non-null   float64\n",
      " 7   Weather           8784 non-null   object \n",
      "dtypes: float64(4), int64(2), object(2)\n",
      "memory usage: 549.1+ KB\n",
      "None\n"
     ]
    }
   ],
   "source": [
    "print(d.info())"
   ]
  },
  {
   "cell_type": "markdown",
   "id": "9ad28b57-fe95-4aa8-8a55-77f95636af7f",
   "metadata": {},
   "source": [
    "# Types of weather"
   ]
  },
  {
   "cell_type": "code",
   "execution_count": 55,
   "id": "c779c3c3-2459-4d66-8e13-d14b51f0d236",
   "metadata": {},
   "outputs": [
    {
     "data": {
      "text/plain": [
       "Weather\n",
       "Mainly Clear                               2106\n",
       "Mostly Cloudy                              2069\n",
       "Cloudy                                     1728\n",
       "Clear                                      1326\n",
       "Snow                                        390\n",
       "Rain                                        306\n",
       "Rain Showers                                188\n",
       "Fog                                         150\n",
       "Rain,Fog                                    116\n",
       "Drizzle,Fog                                  80\n",
       "Snow Showers                                 60\n",
       "Drizzle                                      41\n",
       "Snow,Fog                                     37\n",
       "Snow,Blowing Snow                            19\n",
       "Rain,Snow                                    18\n",
       "Thunderstorms,Rain Showers                   16\n",
       "Haze                                         16\n",
       "Drizzle,Snow,Fog                             15\n",
       "Freezing Rain                                14\n",
       "Freezing Drizzle,Snow                        11\n",
       "Freezing Drizzle                              7\n",
       "Snow,Ice Pellets                              6\n",
       "Freezing Drizzle,Fog                          6\n",
       "Snow,Haze                                     5\n",
       "Freezing Fog                                  4\n",
       "Snow Showers,Fog                              4\n",
       "Moderate Snow                                 4\n",
       "Rain,Snow,Ice Pellets                         4\n",
       "Freezing Rain,Fog                             4\n",
       "Freezing Drizzle,Haze                         3\n",
       "Rain,Haze                                     3\n",
       "Thunderstorms,Rain                            3\n",
       "Thunderstorms,Rain Showers,Fog                3\n",
       "Freezing Rain,Haze                            2\n",
       "Drizzle,Snow                                  2\n",
       "Rain Showers,Snow Showers                     2\n",
       "Thunderstorms                                 2\n",
       "Moderate Snow,Blowing Snow                    2\n",
       "Rain Showers,Fog                              1\n",
       "Thunderstorms,Moderate Rain Showers,Fog       1\n",
       "Snow Pellets                                  1\n",
       "Rain,Snow,Fog                                 1\n",
       "Moderate Rain,Fog                             1\n",
       "Freezing Rain,Ice Pellets,Fog                 1\n",
       "Drizzle,Ice Pellets,Fog                       1\n",
       "Thunderstorms,Rain,Fog                        1\n",
       "Rain,Ice Pellets                              1\n",
       "Rain,Snow Grains                              1\n",
       "Thunderstorms,Heavy Rain Showers              1\n",
       "Freezing Rain,Snow Grains                     1\n",
       "Name: count, dtype: int64"
      ]
     },
     "execution_count": 55,
     "metadata": {},
     "output_type": "execute_result"
    }
   ],
   "source": [
    "d.Weather.value_counts()"
   ]
  },
  {
   "cell_type": "code",
   "execution_count": 56,
   "id": "19b4e837-d833-4def-b27a-38b030e87c7a",
   "metadata": {},
   "outputs": [
    {
     "data": {
      "text/plain": [
       "array(['Fog', 'Freezing Drizzle,Fog', 'Mostly Cloudy', 'Cloudy', 'Rain',\n",
       "       'Rain Showers', 'Mainly Clear', 'Snow Showers', 'Snow', 'Clear',\n",
       "       'Freezing Rain,Fog', 'Freezing Rain', 'Freezing Drizzle',\n",
       "       'Rain,Snow', 'Moderate Snow', 'Freezing Drizzle,Snow',\n",
       "       'Freezing Rain,Snow Grains', 'Snow,Blowing Snow', 'Freezing Fog',\n",
       "       'Haze', 'Rain,Fog', 'Drizzle,Fog', 'Drizzle',\n",
       "       'Freezing Drizzle,Haze', 'Freezing Rain,Haze', 'Snow,Haze',\n",
       "       'Snow,Fog', 'Snow,Ice Pellets', 'Rain,Haze', 'Thunderstorms,Rain',\n",
       "       'Thunderstorms,Rain Showers', 'Thunderstorms,Heavy Rain Showers',\n",
       "       'Thunderstorms,Rain Showers,Fog', 'Thunderstorms',\n",
       "       'Thunderstorms,Rain,Fog',\n",
       "       'Thunderstorms,Moderate Rain Showers,Fog', 'Rain Showers,Fog',\n",
       "       'Rain Showers,Snow Showers', 'Snow Pellets', 'Rain,Snow,Fog',\n",
       "       'Moderate Rain,Fog', 'Freezing Rain,Ice Pellets,Fog',\n",
       "       'Drizzle,Ice Pellets,Fog', 'Drizzle,Snow', 'Rain,Ice Pellets',\n",
       "       'Drizzle,Snow,Fog', 'Rain,Snow Grains', 'Rain,Snow,Ice Pellets',\n",
       "       'Snow Showers,Fog', 'Moderate Snow,Blowing Snow'], dtype=object)"
      ]
     },
     "execution_count": 56,
     "metadata": {},
     "output_type": "execute_result"
    }
   ],
   "source": [
    "d.Weather.unique()"
   ]
  },
  {
   "cell_type": "code",
   "execution_count": 57,
   "id": "1957c8f7-2b59-4644-8eec-98a3034683f5",
   "metadata": {},
   "outputs": [
    {
     "data": {
      "text/plain": [
       "50"
      ]
     },
     "execution_count": 57,
     "metadata": {},
     "output_type": "execute_result"
    }
   ],
   "source": [
    "d.Weather.nunique()"
   ]
  },
  {
   "cell_type": "markdown",
   "id": "3903ec9d-df18-4ba1-a165-f615d6724b17",
   "metadata": {},
   "source": [
    "# Converting weather categories into STANDARD categories"
   ]
  },
  {
   "cell_type": "code",
   "execution_count": 59,
   "id": "b1a68426-da0f-4e53-a70d-6f21a5477d87",
   "metadata": {},
   "outputs": [],
   "source": [
    "key = \"Thunderstorms,Moderate Rain Showers,Fog\""
   ]
  },
  {
   "cell_type": "code",
   "execution_count": 60,
   "id": "5dc47de0-a118-4daf-9427-1a944bc2018f",
   "metadata": {},
   "outputs": [
    {
     "data": {
      "text/plain": [
       "[['Thunderstorms'], ['Moderate', 'Rain', 'Showers'], ['Fog']]"
      ]
     },
     "execution_count": 60,
     "metadata": {},
     "output_type": "execute_result"
    }
   ],
   "source": [
    "keylist= [w.split() for w in key.split(',')]\n",
    "keylist"
   ]
  },
  {
   "cell_type": "code",
   "execution_count": 61,
   "id": "0167bdd2-6e38-42c7-8f69-ad92ca357fe8",
   "metadata": {},
   "outputs": [
    {
     "data": {
      "text/plain": [
       "['Thunderstorms', 'Moderate', 'Rain', 'Showers', 'Fog']"
      ]
     },
     "execution_count": 61,
     "metadata": {},
     "output_type": "execute_result"
    }
   ],
   "source": [
    "from itertools import chain\n",
    "flatlist= list(chain(*keylist))\n",
    "flatlist"
   ]
  },
  {
   "cell_type": "code",
   "execution_count": 62,
   "id": "12f93e64-8e6a-4c6e-b823-6768b1d6fbcb",
   "metadata": {},
   "outputs": [],
   "source": [
    "def createlist(key):\n",
    "    keylist=[w.split() for w in key.split(',')]\n",
    "    flatlist=list(chain(*keylist))\n",
    "    return flatlist"
   ]
  },
  {
   "cell_type": "code",
   "execution_count": 63,
   "id": "a8e279d3-1937-4340-88a5-9ccb15c719cd",
   "metadata": {},
   "outputs": [],
   "source": [
    "def Weather(list1):\n",
    "    if 'Fog' in list1 and 'Rain' in list1: \n",
    "        return 'RAIN+FOG'\n",
    "    elif 'Snow' in list1 and 'Rain' in list1:\n",
    "        return 'SNOW+RAIN'\n",
    "    elif 'Snow' in list1:\n",
    "        return 'SNOW'\n",
    "    elif 'Fog' in list1:\n",
    "        return 'FOG'\n",
    "    elif 'Clear' in list1:\n",
    "        return 'Clear'\n",
    "    elif 'Cloudy' in list1:\n",
    "        return 'Cloudy'\n",
    "    else:\n",
    "        return 'RAIN'\n",
    "        "
   ]
  },
  {
   "cell_type": "code",
   "execution_count": 64,
   "id": "c05c6058-77af-4045-8926-685783eac4ac",
   "metadata": {},
   "outputs": [
    {
     "data": {
      "text/plain": [
       "['Thunderstorms', 'Moderate', 'Rain', 'Showers', 'Fog']"
      ]
     },
     "execution_count": 64,
     "metadata": {},
     "output_type": "execute_result"
    }
   ],
   "source": [
    "createlist(key)"
   ]
  },
  {
   "cell_type": "code",
   "execution_count": 65,
   "id": "e7794f2a-7fca-4df0-b8f3-941a3502ccc5",
   "metadata": {},
   "outputs": [
    {
     "data": {
      "text/plain": [
       "'RAIN+FOG'"
      ]
     },
     "execution_count": 65,
     "metadata": {},
     "output_type": "execute_result"
    }
   ],
   "source": [
    "Weather(createlist(key))"
   ]
  },
  {
   "cell_type": "code",
   "execution_count": 66,
   "id": "a21cb7e4-9f59-4a1b-b2b6-be13cd086dda",
   "metadata": {},
   "outputs": [],
   "source": [
    "d['Std_Weather']=d['Weather'].apply(lambda key:Weather(createlist(key)))"
   ]
  },
  {
   "cell_type": "code",
   "execution_count": 67,
   "id": "07eccdfc-25bf-4599-8bfc-168f4d84dca1",
   "metadata": {},
   "outputs": [
    {
     "data": {
      "text/html": [
       "<div>\n",
       "<style scoped>\n",
       "    .dataframe tbody tr th:only-of-type {\n",
       "        vertical-align: middle;\n",
       "    }\n",
       "\n",
       "    .dataframe tbody tr th {\n",
       "        vertical-align: top;\n",
       "    }\n",
       "\n",
       "    .dataframe thead th {\n",
       "        text-align: right;\n",
       "    }\n",
       "</style>\n",
       "<table border=\"1\" class=\"dataframe\">\n",
       "  <thead>\n",
       "    <tr style=\"text-align: right;\">\n",
       "      <th></th>\n",
       "      <th>Date/Time</th>\n",
       "      <th>Temp_C</th>\n",
       "      <th>Dew Point Temp_C</th>\n",
       "      <th>Rel Hum_%</th>\n",
       "      <th>Wind Speed_km/h</th>\n",
       "      <th>Visibility_km</th>\n",
       "      <th>Press_kPa</th>\n",
       "      <th>Weather</th>\n",
       "      <th>Std_Weather</th>\n",
       "    </tr>\n",
       "  </thead>\n",
       "  <tbody>\n",
       "    <tr>\n",
       "      <th>0</th>\n",
       "      <td>1/1/2012 00:00</td>\n",
       "      <td>-1.8</td>\n",
       "      <td>-3.9</td>\n",
       "      <td>86</td>\n",
       "      <td>4</td>\n",
       "      <td>8.0</td>\n",
       "      <td>101.24</td>\n",
       "      <td>Fog</td>\n",
       "      <td>FOG</td>\n",
       "    </tr>\n",
       "    <tr>\n",
       "      <th>1</th>\n",
       "      <td>1/1/2012 01:00</td>\n",
       "      <td>-1.8</td>\n",
       "      <td>-3.7</td>\n",
       "      <td>87</td>\n",
       "      <td>4</td>\n",
       "      <td>8.0</td>\n",
       "      <td>101.24</td>\n",
       "      <td>Fog</td>\n",
       "      <td>FOG</td>\n",
       "    </tr>\n",
       "    <tr>\n",
       "      <th>2</th>\n",
       "      <td>1/1/2012 02:00</td>\n",
       "      <td>-1.8</td>\n",
       "      <td>-3.4</td>\n",
       "      <td>89</td>\n",
       "      <td>7</td>\n",
       "      <td>4.0</td>\n",
       "      <td>101.26</td>\n",
       "      <td>Freezing Drizzle,Fog</td>\n",
       "      <td>FOG</td>\n",
       "    </tr>\n",
       "    <tr>\n",
       "      <th>3</th>\n",
       "      <td>1/1/2012 03:00</td>\n",
       "      <td>-1.5</td>\n",
       "      <td>-3.2</td>\n",
       "      <td>88</td>\n",
       "      <td>6</td>\n",
       "      <td>4.0</td>\n",
       "      <td>101.27</td>\n",
       "      <td>Freezing Drizzle,Fog</td>\n",
       "      <td>FOG</td>\n",
       "    </tr>\n",
       "    <tr>\n",
       "      <th>4</th>\n",
       "      <td>1/1/2012 04:00</td>\n",
       "      <td>-1.5</td>\n",
       "      <td>-3.3</td>\n",
       "      <td>88</td>\n",
       "      <td>7</td>\n",
       "      <td>4.8</td>\n",
       "      <td>101.23</td>\n",
       "      <td>Fog</td>\n",
       "      <td>FOG</td>\n",
       "    </tr>\n",
       "  </tbody>\n",
       "</table>\n",
       "</div>"
      ],
      "text/plain": [
       "        Date/Time  Temp_C  Dew Point Temp_C  Rel Hum_%  Wind Speed_km/h  \\\n",
       "0  1/1/2012 00:00    -1.8              -3.9         86                4   \n",
       "1  1/1/2012 01:00    -1.8              -3.7         87                4   \n",
       "2  1/1/2012 02:00    -1.8              -3.4         89                7   \n",
       "3  1/1/2012 03:00    -1.5              -3.2         88                6   \n",
       "4  1/1/2012 04:00    -1.5              -3.3         88                7   \n",
       "\n",
       "   Visibility_km  Press_kPa               Weather Std_Weather  \n",
       "0            8.0     101.24                   Fog         FOG  \n",
       "1            8.0     101.24                   Fog         FOG  \n",
       "2            4.0     101.26  Freezing Drizzle,Fog         FOG  \n",
       "3            4.0     101.27  Freezing Drizzle,Fog         FOG  \n",
       "4            4.8     101.23                   Fog         FOG  "
      ]
     },
     "execution_count": 67,
     "metadata": {},
     "output_type": "execute_result"
    }
   ],
   "source": [
    "d.head()"
   ]
  },
  {
   "cell_type": "code",
   "execution_count": 68,
   "id": "508eba39-73eb-471a-9376-1656929a00f0",
   "metadata": {},
   "outputs": [
    {
     "data": {
      "text/plain": [
       "Std_Weather\n",
       "Cloudy       3797\n",
       "Clear        3432\n",
       "RAIN          603\n",
       "SNOW          556\n",
       "FOG           241\n",
       "RAIN+FOG      129\n",
       "SNOW+RAIN      26\n",
       "Name: count, dtype: int64"
      ]
     },
     "execution_count": 68,
     "metadata": {},
     "output_type": "execute_result"
    }
   ],
   "source": [
    "d.Std_Weather.value_counts()"
   ]
  },
  {
   "cell_type": "markdown",
   "id": "dbfb1573-64f6-4aa9-95b1-0e5e5b06baf2",
   "metadata": {},
   "source": [
    "# Sample selection and data balancing"
   ]
  },
  {
   "cell_type": "code",
   "execution_count": 70,
   "id": "5e4aa65b-4fba-4d35-bba8-45cd96f6925a",
   "metadata": {},
   "outputs": [
    {
     "data": {
      "text/html": [
       "<div>\n",
       "<style scoped>\n",
       "    .dataframe tbody tr th:only-of-type {\n",
       "        vertical-align: middle;\n",
       "    }\n",
       "\n",
       "    .dataframe tbody tr th {\n",
       "        vertical-align: top;\n",
       "    }\n",
       "\n",
       "    .dataframe thead th {\n",
       "        text-align: right;\n",
       "    }\n",
       "</style>\n",
       "<table border=\"1\" class=\"dataframe\">\n",
       "  <thead>\n",
       "    <tr style=\"text-align: right;\">\n",
       "      <th></th>\n",
       "      <th>Date/Time</th>\n",
       "      <th>Temp_C</th>\n",
       "      <th>Dew Point Temp_C</th>\n",
       "      <th>Rel Hum_%</th>\n",
       "      <th>Wind Speed_km/h</th>\n",
       "      <th>Visibility_km</th>\n",
       "      <th>Press_kPa</th>\n",
       "      <th>Weather</th>\n",
       "      <th>Std_Weather</th>\n",
       "    </tr>\n",
       "  </thead>\n",
       "  <tbody>\n",
       "    <tr>\n",
       "      <th>1140</th>\n",
       "      <td>2/17/2012 12:00</td>\n",
       "      <td>2.6</td>\n",
       "      <td>-4.1</td>\n",
       "      <td>61</td>\n",
       "      <td>24</td>\n",
       "      <td>24.1</td>\n",
       "      <td>100.71</td>\n",
       "      <td>Cloudy</td>\n",
       "      <td>Cloudy</td>\n",
       "    </tr>\n",
       "    <tr>\n",
       "      <th>7550</th>\n",
       "      <td>11/10/2012 14:00</td>\n",
       "      <td>5.6</td>\n",
       "      <td>-7.6</td>\n",
       "      <td>38</td>\n",
       "      <td>4</td>\n",
       "      <td>48.3</td>\n",
       "      <td>102.37</td>\n",
       "      <td>Mostly Cloudy</td>\n",
       "      <td>Cloudy</td>\n",
       "    </tr>\n",
       "    <tr>\n",
       "      <th>3731</th>\n",
       "      <td>6/4/2012 11:00</td>\n",
       "      <td>13.1</td>\n",
       "      <td>7.4</td>\n",
       "      <td>68</td>\n",
       "      <td>28</td>\n",
       "      <td>24.1</td>\n",
       "      <td>100.67</td>\n",
       "      <td>Cloudy</td>\n",
       "      <td>Cloudy</td>\n",
       "    </tr>\n",
       "    <tr>\n",
       "      <th>3915</th>\n",
       "      <td>6/12/2012 03:00</td>\n",
       "      <td>20.2</td>\n",
       "      <td>14.3</td>\n",
       "      <td>69</td>\n",
       "      <td>17</td>\n",
       "      <td>25.0</td>\n",
       "      <td>101.00</td>\n",
       "      <td>Mostly Cloudy</td>\n",
       "      <td>Cloudy</td>\n",
       "    </tr>\n",
       "    <tr>\n",
       "      <th>6352</th>\n",
       "      <td>9/21/2012 16:00</td>\n",
       "      <td>19.0</td>\n",
       "      <td>14.1</td>\n",
       "      <td>73</td>\n",
       "      <td>6</td>\n",
       "      <td>24.1</td>\n",
       "      <td>100.89</td>\n",
       "      <td>Cloudy</td>\n",
       "      <td>Cloudy</td>\n",
       "    </tr>\n",
       "    <tr>\n",
       "      <th>...</th>\n",
       "      <td>...</td>\n",
       "      <td>...</td>\n",
       "      <td>...</td>\n",
       "      <td>...</td>\n",
       "      <td>...</td>\n",
       "      <td>...</td>\n",
       "      <td>...</td>\n",
       "      <td>...</td>\n",
       "      <td>...</td>\n",
       "    </tr>\n",
       "    <tr>\n",
       "      <th>8694</th>\n",
       "      <td>12/28/2012 6:00</td>\n",
       "      <td>-4.8</td>\n",
       "      <td>-6.6</td>\n",
       "      <td>87</td>\n",
       "      <td>9</td>\n",
       "      <td>25.0</td>\n",
       "      <td>101.04</td>\n",
       "      <td>Cloudy</td>\n",
       "      <td>Cloudy</td>\n",
       "    </tr>\n",
       "    <tr>\n",
       "      <th>4063</th>\n",
       "      <td>6/18/2012 7:00</td>\n",
       "      <td>19.3</td>\n",
       "      <td>13.4</td>\n",
       "      <td>69</td>\n",
       "      <td>17</td>\n",
       "      <td>48.3</td>\n",
       "      <td>101.16</td>\n",
       "      <td>Mostly Cloudy</td>\n",
       "      <td>Cloudy</td>\n",
       "    </tr>\n",
       "    <tr>\n",
       "      <th>118</th>\n",
       "      <td>1/5/2012 22:00</td>\n",
       "      <td>-9.9</td>\n",
       "      <td>-15.7</td>\n",
       "      <td>63</td>\n",
       "      <td>7</td>\n",
       "      <td>25.0</td>\n",
       "      <td>100.85</td>\n",
       "      <td>Cloudy</td>\n",
       "      <td>Cloudy</td>\n",
       "    </tr>\n",
       "    <tr>\n",
       "      <th>1840</th>\n",
       "      <td>3/17/2012 16:00</td>\n",
       "      <td>10.5</td>\n",
       "      <td>4.1</td>\n",
       "      <td>65</td>\n",
       "      <td>7</td>\n",
       "      <td>48.3</td>\n",
       "      <td>102.02</td>\n",
       "      <td>Cloudy</td>\n",
       "      <td>Cloudy</td>\n",
       "    </tr>\n",
       "    <tr>\n",
       "      <th>8659</th>\n",
       "      <td>12/26/2012 19:00</td>\n",
       "      <td>-9.6</td>\n",
       "      <td>-13.1</td>\n",
       "      <td>76</td>\n",
       "      <td>39</td>\n",
       "      <td>25.0</td>\n",
       "      <td>102.03</td>\n",
       "      <td>Cloudy</td>\n",
       "      <td>Cloudy</td>\n",
       "    </tr>\n",
       "  </tbody>\n",
       "</table>\n",
       "<p>600 rows × 9 columns</p>\n",
       "</div>"
      ],
      "text/plain": [
       "             Date/Time  Temp_C  Dew Point Temp_C  Rel Hum_%  Wind Speed_km/h  \\\n",
       "1140   2/17/2012 12:00     2.6              -4.1         61               24   \n",
       "7550  11/10/2012 14:00     5.6              -7.6         38                4   \n",
       "3731    6/4/2012 11:00    13.1               7.4         68               28   \n",
       "3915   6/12/2012 03:00    20.2              14.3         69               17   \n",
       "6352   9/21/2012 16:00    19.0              14.1         73                6   \n",
       "...                ...     ...               ...        ...              ...   \n",
       "8694   12/28/2012 6:00    -4.8              -6.6         87                9   \n",
       "4063    6/18/2012 7:00    19.3              13.4         69               17   \n",
       "118     1/5/2012 22:00    -9.9             -15.7         63                7   \n",
       "1840   3/17/2012 16:00    10.5               4.1         65                7   \n",
       "8659  12/26/2012 19:00    -9.6             -13.1         76               39   \n",
       "\n",
       "      Visibility_km  Press_kPa        Weather Std_Weather  \n",
       "1140           24.1     100.71         Cloudy      Cloudy  \n",
       "7550           48.3     102.37  Mostly Cloudy      Cloudy  \n",
       "3731           24.1     100.67         Cloudy      Cloudy  \n",
       "3915           25.0     101.00  Mostly Cloudy      Cloudy  \n",
       "6352           24.1     100.89         Cloudy      Cloudy  \n",
       "...             ...        ...            ...         ...  \n",
       "8694           25.0     101.04         Cloudy      Cloudy  \n",
       "4063           48.3     101.16  Mostly Cloudy      Cloudy  \n",
       "118            25.0     100.85         Cloudy      Cloudy  \n",
       "1840           48.3     102.02         Cloudy      Cloudy  \n",
       "8659           25.0     102.03         Cloudy      Cloudy  \n",
       "\n",
       "[600 rows x 9 columns]"
      ]
     },
     "execution_count": 70,
     "metadata": {},
     "output_type": "execute_result"
    }
   ],
   "source": [
    "cloudy_df=d[d['Std_Weather']=='Cloudy']\n",
    "cd_sample=cloudy_df.sample(600)\n",
    "cd_sample"
   ]
  },
  {
   "cell_type": "code",
   "execution_count": 71,
   "id": "4d0389a8-fb3c-49de-a532-f6b4c0b05b99",
   "metadata": {},
   "outputs": [
    {
     "data": {
      "text/plain": [
       "(600, 9)"
      ]
     },
     "execution_count": 71,
     "metadata": {},
     "output_type": "execute_result"
    }
   ],
   "source": [
    "clear_df=d[d['Std_Weather']=='Clear']\n",
    "cl_sample=clear_df.sample(600)\n",
    "cl_sample.shape"
   ]
  },
  {
   "cell_type": "code",
   "execution_count": 72,
   "id": "9ca7b766-0772-4d6b-b501-f2781439dec6",
   "metadata": {},
   "outputs": [],
   "source": [
    "rain_df=d[d['Std_Weather']=='RAIN']\n",
    "snow_df=d[d['Std_Weather']=='SNOW']"
   ]
  },
  {
   "cell_type": "code",
   "execution_count": null,
   "id": "6c163bae-9c14-4d2e-a77c-c79ba80918d6",
   "metadata": {},
   "outputs": [],
   "source": []
  },
  {
   "cell_type": "markdown",
   "id": "a0e24f82-8bba-4cd3-96d6-70ba47f4e9eb",
   "metadata": {},
   "source": [
    "# New Dataset"
   ]
  },
  {
   "cell_type": "code",
   "execution_count": 74,
   "id": "0faf22d9-585f-4af3-bce2-c2b738495832",
   "metadata": {},
   "outputs": [],
   "source": [
    "wd=p.concat([cd_sample,clear_df,rain_df,snow_df],axis=0)\n"
   ]
  },
  {
   "cell_type": "code",
   "execution_count": 75,
   "id": "8e588cb7-f3be-4cbb-99f9-fdcb4eb5fd7f",
   "metadata": {},
   "outputs": [
    {
     "data": {
      "text/plain": [
       "Date/Time           0\n",
       "Temp_C              0\n",
       "Dew Point Temp_C    0\n",
       "Rel Hum_%           0\n",
       "Wind Speed_km/h     0\n",
       "Visibility_km       0\n",
       "Press_kPa           0\n",
       "Weather             0\n",
       "Std_Weather         0\n",
       "dtype: int64"
      ]
     },
     "execution_count": 75,
     "metadata": {},
     "output_type": "execute_result"
    }
   ],
   "source": [
    "wd.isnull().sum()"
   ]
  },
  {
   "cell_type": "code",
   "execution_count": 76,
   "id": "f5bb2d22-c3df-4fe0-b6a0-ea843b0afea6",
   "metadata": {},
   "outputs": [
    {
     "data": {
      "text/html": [
       "<div>\n",
       "<style scoped>\n",
       "    .dataframe tbody tr th:only-of-type {\n",
       "        vertical-align: middle;\n",
       "    }\n",
       "\n",
       "    .dataframe tbody tr th {\n",
       "        vertical-align: top;\n",
       "    }\n",
       "\n",
       "    .dataframe thead th {\n",
       "        text-align: right;\n",
       "    }\n",
       "</style>\n",
       "<table border=\"1\" class=\"dataframe\">\n",
       "  <thead>\n",
       "    <tr style=\"text-align: right;\">\n",
       "      <th></th>\n",
       "      <th>Temp_C</th>\n",
       "      <th>Dew Point Temp_C</th>\n",
       "      <th>Rel Hum_%</th>\n",
       "      <th>Wind Speed_km/h</th>\n",
       "      <th>Visibility_km</th>\n",
       "      <th>Press_kPa</th>\n",
       "    </tr>\n",
       "  </thead>\n",
       "  <tbody>\n",
       "    <tr>\n",
       "      <th>count</th>\n",
       "      <td>5191.000000</td>\n",
       "      <td>5191.000000</td>\n",
       "      <td>5191.000000</td>\n",
       "      <td>5191.000000</td>\n",
       "      <td>5191.000000</td>\n",
       "      <td>5191.000000</td>\n",
       "    </tr>\n",
       "    <tr>\n",
       "      <th>mean</th>\n",
       "      <td>8.660258</td>\n",
       "      <td>2.248507</td>\n",
       "      <td>66.708149</td>\n",
       "      <td>14.535735</td>\n",
       "      <td>28.450973</td>\n",
       "      <td>101.119809</td>\n",
       "    </tr>\n",
       "    <tr>\n",
       "      <th>std</th>\n",
       "      <td>12.150914</td>\n",
       "      <td>11.112176</td>\n",
       "      <td>16.778627</td>\n",
       "      <td>8.808595</td>\n",
       "      <td>12.950709</td>\n",
       "      <td>0.855969</td>\n",
       "    </tr>\n",
       "    <tr>\n",
       "      <th>min</th>\n",
       "      <td>-23.300000</td>\n",
       "      <td>-28.500000</td>\n",
       "      <td>20.000000</td>\n",
       "      <td>0.000000</td>\n",
       "      <td>0.600000</td>\n",
       "      <td>97.520000</td>\n",
       "    </tr>\n",
       "    <tr>\n",
       "      <th>25%</th>\n",
       "      <td>-1.350000</td>\n",
       "      <td>-6.800000</td>\n",
       "      <td>55.000000</td>\n",
       "      <td>7.000000</td>\n",
       "      <td>24.100000</td>\n",
       "      <td>100.640000</td>\n",
       "    </tr>\n",
       "    <tr>\n",
       "      <th>50%</th>\n",
       "      <td>9.300000</td>\n",
       "      <td>3.500000</td>\n",
       "      <td>68.000000</td>\n",
       "      <td>13.000000</td>\n",
       "      <td>25.000000</td>\n",
       "      <td>101.150000</td>\n",
       "    </tr>\n",
       "    <tr>\n",
       "      <th>75%</th>\n",
       "      <td>19.200000</td>\n",
       "      <td>11.700000</td>\n",
       "      <td>81.000000</td>\n",
       "      <td>20.000000</td>\n",
       "      <td>48.300000</td>\n",
       "      <td>101.670000</td>\n",
       "    </tr>\n",
       "    <tr>\n",
       "      <th>max</th>\n",
       "      <td>33.000000</td>\n",
       "      <td>24.400000</td>\n",
       "      <td>100.000000</td>\n",
       "      <td>63.000000</td>\n",
       "      <td>48.300000</td>\n",
       "      <td>103.630000</td>\n",
       "    </tr>\n",
       "  </tbody>\n",
       "</table>\n",
       "</div>"
      ],
      "text/plain": [
       "            Temp_C  Dew Point Temp_C    Rel Hum_%  Wind Speed_km/h  \\\n",
       "count  5191.000000       5191.000000  5191.000000      5191.000000   \n",
       "mean      8.660258          2.248507    66.708149        14.535735   \n",
       "std      12.150914         11.112176    16.778627         8.808595   \n",
       "min     -23.300000        -28.500000    20.000000         0.000000   \n",
       "25%      -1.350000         -6.800000    55.000000         7.000000   \n",
       "50%       9.300000          3.500000    68.000000        13.000000   \n",
       "75%      19.200000         11.700000    81.000000        20.000000   \n",
       "max      33.000000         24.400000   100.000000        63.000000   \n",
       "\n",
       "       Visibility_km    Press_kPa  \n",
       "count    5191.000000  5191.000000  \n",
       "mean       28.450973   101.119809  \n",
       "std        12.950709     0.855969  \n",
       "min         0.600000    97.520000  \n",
       "25%        24.100000   100.640000  \n",
       "50%        25.000000   101.150000  \n",
       "75%        48.300000   101.670000  \n",
       "max        48.300000   103.630000  "
      ]
     },
     "execution_count": 76,
     "metadata": {},
     "output_type": "execute_result"
    }
   ],
   "source": [
    "wd.describe()"
   ]
  },
  {
   "cell_type": "markdown",
   "id": "07a297af-e286-4005-a0f9-a9e4af6fef5c",
   "metadata": {},
   "source": [
    "# Dropping Date and Time"
   ]
  },
  {
   "cell_type": "code",
   "execution_count": 78,
   "id": "e4e05238-1f47-471f-a318-93d2689a1e87",
   "metadata": {},
   "outputs": [
    {
     "data": {
      "text/html": [
       "<div>\n",
       "<style scoped>\n",
       "    .dataframe tbody tr th:only-of-type {\n",
       "        vertical-align: middle;\n",
       "    }\n",
       "\n",
       "    .dataframe tbody tr th {\n",
       "        vertical-align: top;\n",
       "    }\n",
       "\n",
       "    .dataframe thead th {\n",
       "        text-align: right;\n",
       "    }\n",
       "</style>\n",
       "<table border=\"1\" class=\"dataframe\">\n",
       "  <thead>\n",
       "    <tr style=\"text-align: right;\">\n",
       "      <th></th>\n",
       "      <th>Temp_C</th>\n",
       "      <th>Dew Point Temp_C</th>\n",
       "      <th>Rel Hum_%</th>\n",
       "      <th>Wind Speed_km/h</th>\n",
       "      <th>Visibility_km</th>\n",
       "      <th>Press_kPa</th>\n",
       "      <th>Std_Weather</th>\n",
       "    </tr>\n",
       "  </thead>\n",
       "  <tbody>\n",
       "    <tr>\n",
       "      <th>1140</th>\n",
       "      <td>2.6</td>\n",
       "      <td>-4.1</td>\n",
       "      <td>61</td>\n",
       "      <td>24</td>\n",
       "      <td>24.1</td>\n",
       "      <td>100.71</td>\n",
       "      <td>Cloudy</td>\n",
       "    </tr>\n",
       "    <tr>\n",
       "      <th>7550</th>\n",
       "      <td>5.6</td>\n",
       "      <td>-7.6</td>\n",
       "      <td>38</td>\n",
       "      <td>4</td>\n",
       "      <td>48.3</td>\n",
       "      <td>102.37</td>\n",
       "      <td>Cloudy</td>\n",
       "    </tr>\n",
       "    <tr>\n",
       "      <th>3731</th>\n",
       "      <td>13.1</td>\n",
       "      <td>7.4</td>\n",
       "      <td>68</td>\n",
       "      <td>28</td>\n",
       "      <td>24.1</td>\n",
       "      <td>100.67</td>\n",
       "      <td>Cloudy</td>\n",
       "    </tr>\n",
       "    <tr>\n",
       "      <th>3915</th>\n",
       "      <td>20.2</td>\n",
       "      <td>14.3</td>\n",
       "      <td>69</td>\n",
       "      <td>17</td>\n",
       "      <td>25.0</td>\n",
       "      <td>101.00</td>\n",
       "      <td>Cloudy</td>\n",
       "    </tr>\n",
       "    <tr>\n",
       "      <th>6352</th>\n",
       "      <td>19.0</td>\n",
       "      <td>14.1</td>\n",
       "      <td>73</td>\n",
       "      <td>6</td>\n",
       "      <td>24.1</td>\n",
       "      <td>100.89</td>\n",
       "      <td>Cloudy</td>\n",
       "    </tr>\n",
       "  </tbody>\n",
       "</table>\n",
       "</div>"
      ],
      "text/plain": [
       "      Temp_C  Dew Point Temp_C  Rel Hum_%  Wind Speed_km/h  Visibility_km  \\\n",
       "1140     2.6              -4.1         61               24           24.1   \n",
       "7550     5.6              -7.6         38                4           48.3   \n",
       "3731    13.1               7.4         68               28           24.1   \n",
       "3915    20.2              14.3         69               17           25.0   \n",
       "6352    19.0              14.1         73                6           24.1   \n",
       "\n",
       "      Press_kPa Std_Weather  \n",
       "1140     100.71      Cloudy  \n",
       "7550     102.37      Cloudy  \n",
       "3731     100.67      Cloudy  \n",
       "3915     101.00      Cloudy  \n",
       "6352     100.89      Cloudy  "
      ]
     },
     "execution_count": 78,
     "metadata": {},
     "output_type": "execute_result"
    }
   ],
   "source": [
    "wd.drop(columns=['Date/Time','Weather'],axis=1,inplace=True)\n",
    "wd.head()"
   ]
  },
  {
   "cell_type": "markdown",
   "id": "882f7aa0-5ca3-4189-b147-797801970f04",
   "metadata": {},
   "source": [
    "# correlation among features"
   ]
  },
  {
   "cell_type": "code",
   "execution_count": 80,
   "id": "36506580-97cd-48f0-af51-171c2c2dd086",
   "metadata": {},
   "outputs": [],
   "source": [
    "cols=['Temp_C','Dew Point Temp_C','Rel Hum_%','Wind Speed_km/h','Visibility_km','Press_kPa']"
   ]
  },
  {
   "cell_type": "code",
   "execution_count": 81,
   "id": "c9687ee5-45a0-4b76-ad84-77f5c927ce7e",
   "metadata": {},
   "outputs": [
    {
     "data": {
      "text/html": [
       "<div>\n",
       "<style scoped>\n",
       "    .dataframe tbody tr th:only-of-type {\n",
       "        vertical-align: middle;\n",
       "    }\n",
       "\n",
       "    .dataframe tbody tr th {\n",
       "        vertical-align: top;\n",
       "    }\n",
       "\n",
       "    .dataframe thead th {\n",
       "        text-align: right;\n",
       "    }\n",
       "</style>\n",
       "<table border=\"1\" class=\"dataframe\">\n",
       "  <thead>\n",
       "    <tr style=\"text-align: right;\">\n",
       "      <th></th>\n",
       "      <th>Temp_C</th>\n",
       "      <th>Dew Point Temp_C</th>\n",
       "      <th>Rel Hum_%</th>\n",
       "      <th>Wind Speed_km/h</th>\n",
       "      <th>Visibility_km</th>\n",
       "      <th>Press_kPa</th>\n",
       "    </tr>\n",
       "  </thead>\n",
       "  <tbody>\n",
       "    <tr>\n",
       "      <th>Temp_C</th>\n",
       "      <td>1.000000</td>\n",
       "      <td>0.936735</td>\n",
       "      <td>-0.268175</td>\n",
       "      <td>-0.075242</td>\n",
       "      <td>0.321214</td>\n",
       "      <td>-0.203127</td>\n",
       "    </tr>\n",
       "    <tr>\n",
       "      <th>Dew Point Temp_C</th>\n",
       "      <td>0.936735</td>\n",
       "      <td>1.000000</td>\n",
       "      <td>0.079220</td>\n",
       "      <td>-0.111092</td>\n",
       "      <td>0.113445</td>\n",
       "      <td>-0.291775</td>\n",
       "    </tr>\n",
       "    <tr>\n",
       "      <th>Rel Hum_%</th>\n",
       "      <td>-0.268175</td>\n",
       "      <td>0.079220</td>\n",
       "      <td>1.000000</td>\n",
       "      <td>-0.079496</td>\n",
       "      <td>-0.620981</td>\n",
       "      <td>-0.253249</td>\n",
       "    </tr>\n",
       "    <tr>\n",
       "      <th>Wind Speed_km/h</th>\n",
       "      <td>-0.075242</td>\n",
       "      <td>-0.111092</td>\n",
       "      <td>-0.079496</td>\n",
       "      <td>1.000000</td>\n",
       "      <td>-0.043914</td>\n",
       "      <td>-0.388065</td>\n",
       "    </tr>\n",
       "    <tr>\n",
       "      <th>Visibility_km</th>\n",
       "      <td>0.321214</td>\n",
       "      <td>0.113445</td>\n",
       "      <td>-0.620981</td>\n",
       "      <td>-0.043914</td>\n",
       "      <td>1.000000</td>\n",
       "      <td>0.284617</td>\n",
       "    </tr>\n",
       "    <tr>\n",
       "      <th>Press_kPa</th>\n",
       "      <td>-0.203127</td>\n",
       "      <td>-0.291775</td>\n",
       "      <td>-0.253249</td>\n",
       "      <td>-0.388065</td>\n",
       "      <td>0.284617</td>\n",
       "      <td>1.000000</td>\n",
       "    </tr>\n",
       "  </tbody>\n",
       "</table>\n",
       "</div>"
      ],
      "text/plain": [
       "                    Temp_C  Dew Point Temp_C  Rel Hum_%  Wind Speed_km/h  \\\n",
       "Temp_C            1.000000          0.936735  -0.268175        -0.075242   \n",
       "Dew Point Temp_C  0.936735          1.000000   0.079220        -0.111092   \n",
       "Rel Hum_%        -0.268175          0.079220   1.000000        -0.079496   \n",
       "Wind Speed_km/h  -0.075242         -0.111092  -0.079496         1.000000   \n",
       "Visibility_km     0.321214          0.113445  -0.620981        -0.043914   \n",
       "Press_kPa        -0.203127         -0.291775  -0.253249        -0.388065   \n",
       "\n",
       "                  Visibility_km  Press_kPa  \n",
       "Temp_C                 0.321214  -0.203127  \n",
       "Dew Point Temp_C       0.113445  -0.291775  \n",
       "Rel Hum_%             -0.620981  -0.253249  \n",
       "Wind Speed_km/h       -0.043914  -0.388065  \n",
       "Visibility_km          1.000000   0.284617  \n",
       "Press_kPa              0.284617   1.000000  "
      ]
     },
     "execution_count": 81,
     "metadata": {},
     "output_type": "execute_result"
    }
   ],
   "source": [
    "corrmat=wd[cols].corr()\n",
    "corrmat"
   ]
  },
  {
   "cell_type": "code",
   "execution_count": 82,
   "id": "532a04ac-e0d9-4870-83e9-342fcd9f7421",
   "metadata": {},
   "outputs": [
    {
     "data": {
      "text/plain": [
       "<Axes: >"
      ]
     },
     "execution_count": 82,
     "metadata": {},
     "output_type": "execute_result"
    },
    {
     "data": {
      "image/png": "[encoded data removed]",
      "text/plain": [
       "<Figure size 640x480 with 2 Axes>"
      ]
     },
     "metadata": {},
     "output_type": "display_data"
    }
   ],
   "source": [
    "s.heatmap(corrmat,annot=True)"
   ]
  },
  {
   "cell_type": "code",
   "execution_count": 83,
   "id": "a4a5168e-d0ce-45dc-b8ee-be2a764fdee7",
   "metadata": {},
   "outputs": [
    {
     "data": {
      "text/plain": [
       "Index(['Temp_C', 'Dew Point Temp_C', 'Rel Hum_%', 'Wind Speed_km/h',\n",
       "       'Visibility_km', 'Press_kPa', 'Std_Weather'],\n",
       "      dtype='object')"
      ]
     },
     "execution_count": 83,
     "metadata": {},
     "output_type": "execute_result"
    }
   ],
   "source": [
    "wd.columns"
   ]
  },
  {
   "cell_type": "code",
   "execution_count": 84,
   "id": "aa9a3968-9bca-4931-af47-f85adac93053",
   "metadata": {},
   "outputs": [
    {
     "data": {
      "image/png": "[encoded data removed]",
      "text/plain": [
       "<Figure size 2000x2000 with 6 Axes>"
      ]
     },
     "metadata": {},
     "output_type": "display_data"
    }
   ],
   "source": [
    "hist=wd.hist(figsize=(20,20),color='#5F9EA0')"
   ]
  },
  {
   "cell_type": "code",
   "execution_count": 85,
   "id": "627d1851-9f1b-4a04-a4d3-40e4314a6c87",
   "metadata": {},
   "outputs": [
    {
     "data": {
      "text/plain": [
       "['Temp_C',\n",
       " 'Dew Point Temp_C',\n",
       " 'Rel Hum_%',\n",
       " 'Wind Speed_km/h',\n",
       " 'Visibility_km',\n",
       " 'Press_kPa']"
      ]
     },
     "execution_count": 85,
     "metadata": {},
     "output_type": "execute_result"
    }
   ],
   "source": [
    "num_cols=wd.select_dtypes(exclude=['object']).columns.tolist()\n",
    "num_cols"
   ]
  },
  {
   "cell_type": "code",
   "execution_count": 86,
   "id": "e70846d3-e6af-41c9-9a2c-db2c159c53a3",
   "metadata": {},
   "outputs": [
    {
     "data": {
      "image/png": "[encoded data removed]",
      "text/plain": [
       "<Figure size 1200x300 with 6 Axes>"
      ]
     },
     "metadata": {},
     "output_type": "display_data"
    }
   ],
   "source": [
    "fig,axes=plt.subplots(ncols=6,figsize=(12,3))\n",
    "for column,axis in zip(num_cols,axes):\n",
    "    s.boxplot(data=wd[column],ax=axis)\n",
    "    axis.set_title(column)\n",
    "plt.tight_layout()\n",
    "plt.show()"
   ]
  },
  {
   "cell_type": "markdown",
   "id": "ef49544a-8e7d-4a18-810e-2e6af4f47e8b",
   "metadata": {},
   "source": [
    "# label Encoding"
   ]
  },
  {
   "cell_type": "code",
   "execution_count": 88,
   "id": "f01a677b-b1e3-48ef-ad6d-eafd9ae11a1f",
   "metadata": {},
   "outputs": [],
   "source": [
    "from sklearn.preprocessing import LabelEncoder"
   ]
  },
  {
   "cell_type": "code",
   "execution_count": 89,
   "id": "05fd2a51-20ac-4a18-854a-e950df44cfcc",
   "metadata": {},
   "outputs": [],
   "source": [
    "lab=LabelEncoder()"
   ]
  },
  {
   "cell_type": "code",
   "execution_count": 90,
   "id": "53e57560-03cf-4a01-baaa-f9d53798fad9",
   "metadata": {},
   "outputs": [],
   "source": [
    "wd['Std_Weather']=lab.fit_transform(wd['Std_Weather'])"
   ]
  },
  {
   "cell_type": "code",
   "execution_count": 91,
   "id": "2d112ac0-7394-409a-9c6a-568d6609ddb8",
   "metadata": {},
   "outputs": [
    {
     "data": {
      "text/plain": [
       "array(['Clear', 'Cloudy', 'RAIN', 'SNOW'], dtype=object)"
      ]
     },
     "execution_count": 91,
     "metadata": {},
     "output_type": "execute_result"
    }
   ],
   "source": [
    "lab.classes_"
   ]
  },
  {
   "cell_type": "code",
   "execution_count": 92,
   "id": "2659e864-b601-4a49-a204-21151ef6d18c",
   "metadata": {},
   "outputs": [
    {
     "data": {
      "text/plain": [
       "{'Clear': 0, 'Cloudy': 1, 'RAIN': 2, 'SNOW': 3}"
      ]
     },
     "execution_count": 92,
     "metadata": {},
     "output_type": "execute_result"
    }
   ],
   "source": [
    "cat_code=dict(zip(lab.classes_,lab.transform(lab.classes_)))\n",
    "cat_code"
   ]
  },
  {
   "cell_type": "code",
   "execution_count": 93,
   "id": "4db358e7-70ee-4851-863f-525d81b1635d",
   "metadata": {},
   "outputs": [
    {
     "data": {
      "text/plain": [
       "Std_Weather\n",
       "0    3432\n",
       "2     603\n",
       "1     600\n",
       "3     556\n",
       "Name: count, dtype: int64"
      ]
     },
     "execution_count": 93,
     "metadata": {},
     "output_type": "execute_result"
    }
   ],
   "source": [
    "wd.Std_Weather.value_counts()"
   ]
  },
  {
   "cell_type": "markdown",
   "id": "e30a2439-c1fb-4645-9618-7b3e078a6b7f",
   "metadata": {},
   "source": [
    "# X,Y variable"
   ]
  },
  {
   "cell_type": "code",
   "execution_count": 95,
   "id": "23ed16db-e595-4995-a46a-64bdd1e6afd2",
   "metadata": {},
   "outputs": [
    {
     "data": {
      "text/html": [
       "<div>\n",
       "<style scoped>\n",
       "    .dataframe tbody tr th:only-of-type {\n",
       "        vertical-align: middle;\n",
       "    }\n",
       "\n",
       "    .dataframe tbody tr th {\n",
       "        vertical-align: top;\n",
       "    }\n",
       "\n",
       "    .dataframe thead th {\n",
       "        text-align: right;\n",
       "    }\n",
       "</style>\n",
       "<table border=\"1\" class=\"dataframe\">\n",
       "  <thead>\n",
       "    <tr style=\"text-align: right;\">\n",
       "      <th></th>\n",
       "      <th>Temp_C</th>\n",
       "      <th>Dew Point Temp_C</th>\n",
       "      <th>Rel Hum_%</th>\n",
       "      <th>Wind Speed_km/h</th>\n",
       "      <th>Visibility_km</th>\n",
       "      <th>Press_kPa</th>\n",
       "    </tr>\n",
       "  </thead>\n",
       "  <tbody>\n",
       "    <tr>\n",
       "      <th>1140</th>\n",
       "      <td>2.6</td>\n",
       "      <td>-4.1</td>\n",
       "      <td>61</td>\n",
       "      <td>24</td>\n",
       "      <td>24.1</td>\n",
       "      <td>100.71</td>\n",
       "    </tr>\n",
       "    <tr>\n",
       "      <th>7550</th>\n",
       "      <td>5.6</td>\n",
       "      <td>-7.6</td>\n",
       "      <td>38</td>\n",
       "      <td>4</td>\n",
       "      <td>48.3</td>\n",
       "      <td>102.37</td>\n",
       "    </tr>\n",
       "    <tr>\n",
       "      <th>3731</th>\n",
       "      <td>13.1</td>\n",
       "      <td>7.4</td>\n",
       "      <td>68</td>\n",
       "      <td>28</td>\n",
       "      <td>24.1</td>\n",
       "      <td>100.67</td>\n",
       "    </tr>\n",
       "    <tr>\n",
       "      <th>3915</th>\n",
       "      <td>20.2</td>\n",
       "      <td>14.3</td>\n",
       "      <td>69</td>\n",
       "      <td>17</td>\n",
       "      <td>25.0</td>\n",
       "      <td>101.00</td>\n",
       "    </tr>\n",
       "    <tr>\n",
       "      <th>6352</th>\n",
       "      <td>19.0</td>\n",
       "      <td>14.1</td>\n",
       "      <td>73</td>\n",
       "      <td>6</td>\n",
       "      <td>24.1</td>\n",
       "      <td>100.89</td>\n",
       "    </tr>\n",
       "    <tr>\n",
       "      <th>...</th>\n",
       "      <td>...</td>\n",
       "      <td>...</td>\n",
       "      <td>...</td>\n",
       "      <td>...</td>\n",
       "      <td>...</td>\n",
       "      <td>...</td>\n",
       "    </tr>\n",
       "    <tr>\n",
       "      <th>8779</th>\n",
       "      <td>0.1</td>\n",
       "      <td>-2.7</td>\n",
       "      <td>81</td>\n",
       "      <td>30</td>\n",
       "      <td>9.7</td>\n",
       "      <td>100.13</td>\n",
       "    </tr>\n",
       "    <tr>\n",
       "      <th>8780</th>\n",
       "      <td>0.2</td>\n",
       "      <td>-2.4</td>\n",
       "      <td>83</td>\n",
       "      <td>24</td>\n",
       "      <td>9.7</td>\n",
       "      <td>100.03</td>\n",
       "    </tr>\n",
       "    <tr>\n",
       "      <th>8781</th>\n",
       "      <td>-0.5</td>\n",
       "      <td>-1.5</td>\n",
       "      <td>93</td>\n",
       "      <td>28</td>\n",
       "      <td>4.8</td>\n",
       "      <td>99.95</td>\n",
       "    </tr>\n",
       "    <tr>\n",
       "      <th>8782</th>\n",
       "      <td>-0.2</td>\n",
       "      <td>-1.8</td>\n",
       "      <td>89</td>\n",
       "      <td>28</td>\n",
       "      <td>9.7</td>\n",
       "      <td>99.91</td>\n",
       "    </tr>\n",
       "    <tr>\n",
       "      <th>8783</th>\n",
       "      <td>0.0</td>\n",
       "      <td>-2.1</td>\n",
       "      <td>86</td>\n",
       "      <td>30</td>\n",
       "      <td>11.3</td>\n",
       "      <td>99.89</td>\n",
       "    </tr>\n",
       "  </tbody>\n",
       "</table>\n",
       "<p>5191 rows × 6 columns</p>\n",
       "</div>"
      ],
      "text/plain": [
       "      Temp_C  Dew Point Temp_C  Rel Hum_%  Wind Speed_km/h  Visibility_km  \\\n",
       "1140     2.6              -4.1         61               24           24.1   \n",
       "7550     5.6              -7.6         38                4           48.3   \n",
       "3731    13.1               7.4         68               28           24.1   \n",
       "3915    20.2              14.3         69               17           25.0   \n",
       "6352    19.0              14.1         73                6           24.1   \n",
       "...      ...               ...        ...              ...            ...   \n",
       "8779     0.1              -2.7         81               30            9.7   \n",
       "8780     0.2              -2.4         83               24            9.7   \n",
       "8781    -0.5              -1.5         93               28            4.8   \n",
       "8782    -0.2              -1.8         89               28            9.7   \n",
       "8783     0.0              -2.1         86               30           11.3   \n",
       "\n",
       "      Press_kPa  \n",
       "1140     100.71  \n",
       "7550     102.37  \n",
       "3731     100.67  \n",
       "3915     101.00  \n",
       "6352     100.89  \n",
       "...         ...  \n",
       "8779     100.13  \n",
       "8780     100.03  \n",
       "8781      99.95  \n",
       "8782      99.91  \n",
       "8783      99.89  \n",
       "\n",
       "[5191 rows x 6 columns]"
      ]
     },
     "execution_count": 95,
     "metadata": {},
     "output_type": "execute_result"
    }
   ],
   "source": [
    "X=wd.drop(['Std_Weather'],axis=1)\n",
    "X"
   ]
  },
  {
   "cell_type": "code",
   "execution_count": 96,
   "id": "338c2cba-be1b-475d-89ef-773349869ca7",
   "metadata": {},
   "outputs": [
    {
     "data": {
      "text/plain": [
       "1140    1\n",
       "7550    1\n",
       "3731    1\n",
       "3915    1\n",
       "6352    1\n",
       "       ..\n",
       "8779    3\n",
       "8780    3\n",
       "8781    3\n",
       "8782    3\n",
       "8783    3\n",
       "Name: Std_Weather, Length: 5191, dtype: int32"
      ]
     },
     "execution_count": 96,
     "metadata": {},
     "output_type": "execute_result"
    }
   ],
   "source": [
    "y= wd['Std_Weather']\n",
    "y"
   ]
  },
  {
   "cell_type": "markdown",
   "id": "20351393-9d50-4b89-a79e-4ccd0b2012b3",
   "metadata": {},
   "source": [
    "# Feature Scaling"
   ]
  },
  {
   "cell_type": "code",
   "execution_count": 98,
   "id": "ffab3f5c-6b11-4a1a-a5e1-72fa899645bb",
   "metadata": {},
   "outputs": [],
   "source": [
    "from sklearn.preprocessing import StandardScaler"
   ]
  },
  {
   "cell_type": "code",
   "execution_count": 99,
   "id": "436eafa6-e49c-4b6d-a933-c998bc1f8c4c",
   "metadata": {},
   "outputs": [],
   "source": [
    "stdscale=StandardScaler()"
   ]
  },
  {
   "cell_type": "code",
   "execution_count": 100,
   "id": "9d715b56-1bef-48a5-a4da-fe0cc183de80",
   "metadata": {},
   "outputs": [
    {
     "data": {
      "text/plain": [
       "array([[-0.49879721, -0.5713659 , -0.34023634,  1.07453872, -0.33599643,\n",
       "        -0.47881262],\n",
       "       [-0.25187842, -0.88636604, -1.71115995, -1.19618956,  1.53280715,\n",
       "         1.46069675],\n",
       "       [ 0.36541857,  0.46363458,  0.07700128,  1.52868438, -0.33599643,\n",
       "        -0.52554778],\n",
       "       ...,\n",
       "       [-0.75394663, -0.33736579,  1.56713563,  1.52868438, -1.8264059 ,\n",
       "        -1.36678076],\n",
       "       [-0.72925475, -0.3643658 ,  1.32871414,  1.52868438, -1.44801179,\n",
       "        -1.41351593],\n",
       "       [-0.7127935 , -0.39136581,  1.14989801,  1.7557572 , -1.32445453,\n",
       "        -1.43688351]])"
      ]
     },
     "execution_count": 100,
     "metadata": {},
     "output_type": "execute_result"
    }
   ],
   "source": [
    "X_std=stdscale.fit_transform(X)\n",
    "X_std"
   ]
  },
  {
   "cell_type": "markdown",
   "id": "4531469d-fe2b-477b-9ee4-87b4108830dc",
   "metadata": {},
   "source": [
    "# Splitting Data into Testing and Training"
   ]
  },
  {
   "cell_type": "code",
   "execution_count": 102,
   "id": "634b1c07-7cfe-43e9-a2f3-fc290d7ff493",
   "metadata": {},
   "outputs": [],
   "source": [
    "from sklearn.model_selection import train_test_split"
   ]
  },
  {
   "cell_type": "code",
   "execution_count": 103,
   "id": "04ceb11e-c1e9-4149-965a-e8a65dc3d751",
   "metadata": {},
   "outputs": [],
   "source": [
    "x_train,x_test,y_train,y_test= train_test_split(X_std,y,test_size=0.2,random_state=42)"
   ]
  },
  {
   "cell_type": "code",
   "execution_count": 104,
   "id": "372effc1-676f-4bba-956d-323e5525adfd",
   "metadata": {},
   "outputs": [
    {
     "data": {
      "text/plain": [
       "((4152, 6), (1039, 6))"
      ]
     },
     "execution_count": 104,
     "metadata": {},
     "output_type": "execute_result"
    }
   ],
   "source": [
    "x_train.shape,x_test.shape"
   ]
  },
  {
   "cell_type": "markdown",
   "id": "75458566-481e-4cf9-83ca-cd021e197003",
   "metadata": {},
   "source": [
    "# Model Building"
   ]
  },
  {
   "cell_type": "code",
   "execution_count": 106,
   "id": "87404e89-4802-4400-a405-31c50242039c",
   "metadata": {},
   "outputs": [],
   "source": [
    "from sklearn.tree import DecisionTreeClassifier\n",
    "from sklearn.ensemble import RandomForestClassifier\n",
    "from sklearn.ensemble import ExtraTreesClassifier\n",
    "from sklearn.svm import SVC\n",
    "from sklearn.neighbors import KNeighborsClassifier \n",
    "from sklearn.ensemble import GradientBoostingClassifier\n",
    "from sklearn.linear_model import LogisticRegression\n",
    "from sklearn.naive_bayes import GaussianNB\n",
    "from sklearn.ensemble import AdaBoostClassifier"
   ]
  },
  {
   "cell_type": "code",
   "execution_count": 107,
   "id": "1d7d35ba-f103-499e-b97a-533c1d4a7f42",
   "metadata": {},
   "outputs": [],
   "source": [
    "dt_model=DecisionTreeClassifier()\n",
    "rf_model=RandomForestClassifier()\n",
    "et_model=ExtraTreesClassifier()\n",
    "svc_model=SVC()\n",
    "knn_model=KNeighborsClassifier()\n",
    "gr_model=GradientBoostingClassifier()\n",
    "ad_model=AdaBoostClassifier()\n",
    "lr_model=LogisticRegression()\n",
    "nb_model=GaussianNB()"
   ]
  },
  {
   "cell_type": "code",
   "execution_count": null,
   "id": "568e6904-1dd5-4b63-bc0f-e4e7afd6caaf",
   "metadata": {},
   "outputs": [],
   "source": [
    "import warnings\n",
    "warnings.filterwarnings('ignore')\n",
    "\n",
    "from sklearn.model_selection import cross_val_score as cvs\n",
    "model_list=[lr_model,dt_model,rf_model,svc_model,knn_model,gr_model,ad_model,nb_model]\n",
    "features=X_std\n",
    "labels=y\n",
    "CV=5\n",
    "accu_list=[]\n",
    "ModelName=[]\n",
    "\n",
    "for model in model_list:\n",
    "    model_name= model.__class__.__name__\n",
    "    accuracies=cvs(model,features,labels,scoring='accuracy',cv=CV)\n",
    "    accu_list.append(accuracies.mean()*100)\n",
    "    ModelName.append(model_name)\n",
    "    \n",
    "model_accd=p.DataFrame({'Model':ModelName, 'Cross_val_accuracy':accu_list})\n",
    "print(model_accd)"
   ]
  },
  {
   "cell_type": "code",
   "execution_count": 109,
   "id": "d0a15736-0051-475f-90d3-67074a25aa12",
   "metadata": {},
   "outputs": [
    {
     "data": {
      "text/html": [
       "<div>\n",
       "<style scoped>\n",
       "    .dataframe tbody tr th:only-of-type {\n",
       "        vertical-align: middle;\n",
       "    }\n",
       "\n",
       "    .dataframe tbody tr th {\n",
       "        vertical-align: top;\n",
       "    }\n",
       "\n",
       "    .dataframe thead th {\n",
       "        text-align: right;\n",
       "    }\n",
       "</style>\n",
       "<table border=\"1\" class=\"dataframe\">\n",
       "  <thead>\n",
       "    <tr style=\"text-align: right;\">\n",
       "      <th></th>\n",
       "      <th>Model</th>\n",
       "      <th>Cross_val_accuracy</th>\n",
       "    </tr>\n",
       "  </thead>\n",
       "  <tbody>\n",
       "    <tr>\n",
       "      <th>6</th>\n",
       "      <td>AdaBoostClassifier</td>\n",
       "      <td>44.247044</td>\n",
       "    </tr>\n",
       "    <tr>\n",
       "      <th>1</th>\n",
       "      <td>DecisionTreeClassifier</td>\n",
       "      <td>55.732001</td>\n",
       "    </tr>\n",
       "    <tr>\n",
       "      <th>2</th>\n",
       "      <td>RandomForestClassifier</td>\n",
       "      <td>66.135513</td>\n",
       "    </tr>\n",
       "    <tr>\n",
       "      <th>4</th>\n",
       "      <td>KNeighborsClassifier</td>\n",
       "      <td>66.963176</td>\n",
       "    </tr>\n",
       "    <tr>\n",
       "      <th>5</th>\n",
       "      <td>GradientBoostingClassifier</td>\n",
       "      <td>68.042248</td>\n",
       "    </tr>\n",
       "    <tr>\n",
       "      <th>7</th>\n",
       "      <td>GaussianNB</td>\n",
       "      <td>68.737559</td>\n",
       "    </tr>\n",
       "    <tr>\n",
       "      <th>0</th>\n",
       "      <td>LogisticRegression</td>\n",
       "      <td>76.268737</td>\n",
       "    </tr>\n",
       "    <tr>\n",
       "      <th>3</th>\n",
       "      <td>SVC</td>\n",
       "      <td>77.211284</td>\n",
       "    </tr>\n",
       "  </tbody>\n",
       "</table>\n",
       "</div>"
      ],
      "text/plain": [
       "                        Model  Cross_val_accuracy\n",
       "6          AdaBoostClassifier           44.247044\n",
       "1      DecisionTreeClassifier           55.732001\n",
       "2      RandomForestClassifier           66.135513\n",
       "4        KNeighborsClassifier           66.963176\n",
       "5  GradientBoostingClassifier           68.042248\n",
       "7                  GaussianNB           68.737559\n",
       "0          LogisticRegression           76.268737\n",
       "3                         SVC           77.211284"
      ]
     },
     "execution_count": 109,
     "metadata": {},
     "output_type": "execute_result"
    }
   ],
   "source": [
    "model_accd.sort_values(by=['Cross_val_accuracy'])"
   ]
  },
  {
   "cell_type": "markdown",
   "id": "7463a8d5-09e7-46f6-9bd3-7e9c63ea0a56",
   "metadata": {},
   "source": [
    "# Model Evaluation"
   ]
  },
  {
   "cell_type": "code",
   "execution_count": 111,
   "id": "bdd7b459-619b-4e5e-a2c6-0cd7208805f5",
   "metadata": {},
   "outputs": [],
   "source": [
    "from sklearn.metrics import accuracy_score\n",
    "from sklearn.metrics import classification_report\n",
    "from sklearn.metrics import confusion_matrix"
   ]
  },
  {
   "cell_type": "markdown",
   "id": "ee3b250f-4d11-4217-afcf-626b10e61ea8",
   "metadata": {},
   "source": [
    "# classification report"
   ]
  },
  {
   "cell_type": "code",
   "execution_count": 116,
   "id": "bbefb9c6-c5ce-4850-b427-d138efc4638b",
   "metadata": {},
   "outputs": [],
   "source": [
    "rf_model.fit(x_train,y_train)\n",
    "y_pred=rf_model.predict(x_test)"
   ]
  },
  {
   "cell_type": "code",
   "execution_count": 118,
   "id": "f5df07db-f5ee-4c33-9524-12f441ece7b5",
   "metadata": {},
   "outputs": [
    {
     "name": "stdout",
     "output_type": "stream",
     "text": [
      "              precision    recall  f1-score   support\n",
      "\n",
      "           0       0.84      0.96      0.90       662\n",
      "           1       0.54      0.10      0.17       135\n",
      "           2       0.70      0.73      0.71       125\n",
      "           3       0.85      0.89      0.87       117\n",
      "\n",
      "    accuracy                           0.81      1039\n",
      "   macro avg       0.73      0.67      0.66      1039\n",
      "weighted avg       0.78      0.81      0.78      1039\n",
      "\n"
     ]
    }
   ],
   "source": [
    "print(classification_report (y_test , y_pred))"
   ]
  },
  {
   "cell_type": "markdown",
   "id": "ab6d6823-d289-4fe3-acb5-6523e65a2eb9",
   "metadata": {},
   "source": [
    "# Confusion Matrix"
   ]
  },
  {
   "cell_type": "code",
   "execution_count": 120,
   "id": "705c073f-1027-4c20-8a64-8ad777e118ad",
   "metadata": {},
   "outputs": [
    {
     "data": {
      "text/plain": [
       "<Axes: >"
      ]
     },
     "execution_count": 120,
     "metadata": {},
     "output_type": "execute_result"
    },
    {
     "data": {
      "image/png": "[encoded data removed]",
      "text/plain": [
       "<Figure size 640x480 with 2 Axes>"
      ]
     },
     "metadata": {},
     "output_type": "display_data"
    }
   ],
   "source": [
    "cm=confusion_matrix(y_test,y_pred)\n",
    "s.heatmap(cm,annot=True,fmt='d')\n"
   ]
  },
  {
   "cell_type": "markdown",
   "id": "3be01654-f5d5-4f1a-a866-6151ec43491e",
   "metadata": {},
   "source": [
    "# K-Fold Cross Verification"
   ]
  },
  {
   "cell_type": "code",
   "execution_count": 151,
   "id": "ea83979b-b006-438d-8a18-efa1ab05bb3a",
   "metadata": {},
   "outputs": [
    {
     "name": "stdout",
     "output_type": "stream",
     "text": [
      "Cross-Validation Scores:  [0.5707411  0.66859345 0.67533719 0.76589595 0.63680154]\n"
     ]
    }
   ],
   "source": [
    "from sklearn.model_selection import cross_val_score as cvs\n",
    "scores=cvs(rf_model,X_std,y,cv=5,scoring='accuracy')\n",
    "print('Cross-Validation Scores: ',scores)"
   ]
  },
  {
   "cell_type": "code",
   "execution_count": 153,
   "id": "b2734263-c253-4784-aa03-ffe301b728cd",
   "metadata": {},
   "outputs": [
    {
     "data": {
      "text/plain": [
       "0.6634738456460099"
      ]
     },
     "execution_count": 153,
     "metadata": {},
     "output_type": "execute_result"
    }
   ],
   "source": [
    "scores.mean()"
   ]
  },
  {
   "cell_type": "markdown",
   "id": "83eeeef0-417c-43d2-89cc-5dd1860dc1d3",
   "metadata": {},
   "source": [
    "# Hyperparameter Tunning: Model Tuning"
   ]
  },
  {
   "cell_type": "code",
   "execution_count": 122,
   "id": "cd6f324c-4a70-4acc-8337-28ab35989320",
   "metadata": {},
   "outputs": [],
   "source": [
    "from sklearn.model_selection import GridSearchCV as gs,RandomizedSearchCV"
   ]
  },
  {
   "cell_type": "code",
   "execution_count": 124,
   "id": "795348e6-ea39-4c15-8606-7eeff0ead257",
   "metadata": {},
   "outputs": [],
   "source": [
    "parameters={ 'n_estimators': [50,100], 'max_features':['sqrt','log2'],'criterion':[\"gini\",'entropy']}"
   ]
  },
  {
   "cell_type": "code",
   "execution_count": 128,
   "id": "7eba9e18-e9be-4932-94df-f88b32cca4a1",
   "metadata": {},
   "outputs": [],
   "source": [
    "grid=gs(estimator=rf_model,param_grid=parameters)\n"
   ]
  },
  {
   "cell_type": "code",
   "execution_count": 130,
   "id": "9adc9772-e38b-43d6-8189-01a36494d6ff",
   "metadata": {},
   "outputs": [
    {
     "data": {
      "text/html": [
       "<style>#sk-container-id-1 {\n",
       "  /* Definition of color scheme common for light and dark mode */\n",
       "  --sklearn-color-text: black;\n",
       "  --sklearn-color-line: gray;\n",
       "  /* Definition of color scheme for unfitted estimators */\n",
       "  --sklearn-color-unfitted-level-0: #fff5e6;\n",
       "  --sklearn-color-unfitted-level-1: #f6e4d2;\n",
       "  --sklearn-color-unfitted-level-2: #ffe0b3;\n",
       "  --sklearn-color-unfitted-level-3: chocolate;\n",
       "  /* Definition of color scheme for fitted estimators */\n",
       "  --sklearn-color-fitted-level-0: #f0f8ff;\n",
       "  --sklearn-color-fitted-level-1: #d4ebff;\n",
       "  --sklearn-color-fitted-level-2: #b3dbfd;\n",
       "  --sklearn-color-fitted-level-3: cornflowerblue;\n",
       "\n",
       "  /* Specific color for light theme */\n",
       "  --sklearn-color-text-on-default-background: var(--sg-text-color, var(--theme-code-foreground, var(--jp-content-font-color1, black)));\n",
       "  --sklearn-color-background: var(--sg-background-color, var(--theme-background, var(--jp-layout-color0, white)));\n",
       "  --sklearn-color-border-box: var(--sg-text-color, var(--theme-code-foreground, var(--jp-content-font-color1, black)));\n",
       "  --sklearn-color-icon: #696969;\n",
       "\n",
       "  @media (prefers-color-scheme: dark) {\n",
       "    /* Redefinition of color scheme for dark theme */\n",
       "    --sklearn-color-text-on-default-background: var(--sg-text-color, var(--theme-code-foreground, var(--jp-content-font-color1, white)));\n",
       "    --sklearn-color-background: var(--sg-background-color, var(--theme-background, var(--jp-layout-color0, #111)));\n",
       "    --sklearn-color-border-box: var(--sg-text-color, var(--theme-code-foreground, var(--jp-content-font-color1, white)));\n",
       "    --sklearn-color-icon: #878787;\n",
       "  }\n",
       "}\n",
       "\n",
       "#sk-container-id-1 {\n",
       "  color: var(--sklearn-color-text);\n",
       "}\n",
       "\n",
       "#sk-container-id-1 pre {\n",
       "  padding: 0;\n",
       "}\n",
       "\n",
       "#sk-container-id-1 input.sk-hidden--visually {\n",
       "  border: 0;\n",
       "  clip: rect(1px 1px 1px 1px);\n",
       "  clip: rect(1px, 1px, 1px, 1px);\n",
       "  height: 1px;\n",
       "  margin: -1px;\n",
       "  overflow: hidden;\n",
       "  padding: 0;\n",
       "  position: absolute;\n",
       "  width: 1px;\n",
       "}\n",
       "\n",
       "#sk-container-id-1 div.sk-dashed-wrapped {\n",
       "  border: 1px dashed var(--sklearn-color-line);\n",
       "  margin: 0 0.4em 0.5em 0.4em;\n",
       "  box-sizing: border-box;\n",
       "  padding-bottom: 0.4em;\n",
       "  background-color: var(--sklearn-color-background);\n",
       "}\n",
       "\n",
       "#sk-container-id-1 div.sk-container {\n",
       "  /* jupyter's `normalize.less` sets `[hidden] { display: none; }`\n",
       "     but bootstrap.min.css set `[hidden] { display: none !important; }`\n",
       "     so we also need the `!important` here to be able to override the\n",
       "     default hidden behavior on the sphinx rendered scikit-learn.org.\n",
       "     See: https://github.com/scikit-learn/scikit-learn/issues/21755 */\n",
       "  display: inline-block !important;\n",
       "  position: relative;\n",
       "}\n",
       "\n",
       "#sk-container-id-1 div.sk-text-repr-fallback {\n",
       "  display: none;\n",
       "}\n",
       "\n",
       "div.sk-parallel-item,\n",
       "div.sk-serial,\n",
       "div.sk-item {\n",
       "  /* draw centered vertical line to link estimators */\n",
       "  background-image: linear-gradient(var(--sklearn-color-text-on-default-background), var(--sklearn-color-text-on-default-background));\n",
       "  background-size: 2px 100%;\n",
       "  background-repeat: no-repeat;\n",
       "  background-position: center center;\n",
       "}\n",
       "\n",
       "/* Parallel-specific style estimator block */\n",
       "\n",
       "#sk-container-id-1 div.sk-parallel-item::after {\n",
       "  content: \"\";\n",
       "  width: 100%;\n",
       "  border-bottom: 2px solid var(--sklearn-color-text-on-default-background);\n",
       "  flex-grow: 1;\n",
       "}\n",
       "\n",
       "#sk-container-id-1 div.sk-parallel {\n",
       "  display: flex;\n",
       "  align-items: stretch;\n",
       "  justify-content: center;\n",
       "  background-color: var(--sklearn-color-background);\n",
       "  position: relative;\n",
       "}\n",
       "\n",
       "#sk-container-id-1 div.sk-parallel-item {\n",
       "  display: flex;\n",
       "  flex-direction: column;\n",
       "}\n",
       "\n",
       "#sk-container-id-1 div.sk-parallel-item:first-child::after {\n",
       "  align-self: flex-end;\n",
       "  width: 50%;\n",
       "}\n",
       "\n",
       "#sk-container-id-1 div.sk-parallel-item:last-child::after {\n",
       "  align-self: flex-start;\n",
       "  width: 50%;\n",
       "}\n",
       "\n",
       "#sk-container-id-1 div.sk-parallel-item:only-child::after {\n",
       "  width: 0;\n",
       "}\n",
       "\n",
       "/* Serial-specific style estimator block */\n",
       "\n",
       "#sk-container-id-1 div.sk-serial {\n",
       "  display: flex;\n",
       "  flex-direction: column;\n",
       "  align-items: center;\n",
       "  background-color: var(--sklearn-color-background);\n",
       "  padding-right: 1em;\n",
       "  padding-left: 1em;\n",
       "}\n",
       "\n",
       "\n",
       "/* Toggleable style: style used for estimator/Pipeline/ColumnTransformer box that is\n",
       "clickable and can be expanded/collapsed.\n",
       "- Pipeline and ColumnTransformer use this feature and define the default style\n",
       "- Estimators will overwrite some part of the style using the `sk-estimator` class\n",
       "*/\n",
       "\n",
       "/* Pipeline and ColumnTransformer style (default) */\n",
       "\n",
       "#sk-container-id-1 div.sk-toggleable {\n",
       "  /* Default theme specific background. It is overwritten whether we have a\n",
       "  specific estimator or a Pipeline/ColumnTransformer */\n",
       "  background-color: var(--sklearn-color-background);\n",
       "}\n",
       "\n",
       "/* Toggleable label */\n",
       "#sk-container-id-1 label.sk-toggleable__label {\n",
       "  cursor: pointer;\n",
       "  display: block;\n",
       "  width: 100%;\n",
       "  margin-bottom: 0;\n",
       "  padding: 0.5em;\n",
       "  box-sizing: border-box;\n",
       "  text-align: center;\n",
       "}\n",
       "\n",
       "#sk-container-id-1 label.sk-toggleable__label-arrow:before {\n",
       "  /* Arrow on the left of the label */\n",
       "  content: \"▸\";\n",
       "  float: left;\n",
       "  margin-right: 0.25em;\n",
       "  color: var(--sklearn-color-icon);\n",
       "}\n",
       "\n",
       "#sk-container-id-1 label.sk-toggleable__label-arrow:hover:before {\n",
       "  color: var(--sklearn-color-text);\n",
       "}\n",
       "\n",
       "/* Toggleable content - dropdown */\n",
       "\n",
       "#sk-container-id-1 div.sk-toggleable__content {\n",
       "  max-height: 0;\n",
       "  max-width: 0;\n",
       "  overflow: hidden;\n",
       "  text-align: left;\n",
       "  /* unfitted */\n",
       "  background-color: var(--sklearn-color-unfitted-level-0);\n",
       "}\n",
       "\n",
       "#sk-container-id-1 div.sk-toggleable__content.fitted {\n",
       "  /* fitted */\n",
       "  background-color: var(--sklearn-color-fitted-level-0);\n",
       "}\n",
       "\n",
       "#sk-container-id-1 div.sk-toggleable__content pre {\n",
       "  margin: 0.2em;\n",
       "  border-radius: 0.25em;\n",
       "  color: var(--sklearn-color-text);\n",
       "  /* unfitted */\n",
       "  background-color: var(--sklearn-color-unfitted-level-0);\n",
       "}\n",
       "\n",
       "#sk-container-id-1 div.sk-toggleable__content.fitted pre {\n",
       "  /* unfitted */\n",
       "  background-color: var(--sklearn-color-fitted-level-0);\n",
       "}\n",
       "\n",
       "#sk-container-id-1 input.sk-toggleable__control:checked~div.sk-toggleable__content {\n",
       "  /* Expand drop-down */\n",
       "  max-height: 200px;\n",
       "  max-width: 100%;\n",
       "  overflow: auto;\n",
       "}\n",
       "\n",
       "#sk-container-id-1 input.sk-toggleable__control:checked~label.sk-toggleable__label-arrow:before {\n",
       "  content: \"▾\";\n",
       "}\n",
       "\n",
       "/* Pipeline/ColumnTransformer-specific style */\n",
       "\n",
       "#sk-container-id-1 div.sk-label input.sk-toggleable__control:checked~label.sk-toggleable__label {\n",
       "  color: var(--sklearn-color-text);\n",
       "  background-color: var(--sklearn-color-unfitted-level-2);\n",
       "}\n",
       "\n",
       "#sk-container-id-1 div.sk-label.fitted input.sk-toggleable__control:checked~label.sk-toggleable__label {\n",
       "  background-color: var(--sklearn-color-fitted-level-2);\n",
       "}\n",
       "\n",
       "/* Estimator-specific style */\n",
       "\n",
       "/* Colorize estimator box */\n",
       "#sk-container-id-1 div.sk-estimator input.sk-toggleable__control:checked~label.sk-toggleable__label {\n",
       "  /* unfitted */\n",
       "  background-color: var(--sklearn-color-unfitted-level-2);\n",
       "}\n",
       "\n",
       "#sk-container-id-1 div.sk-estimator.fitted input.sk-toggleable__control:checked~label.sk-toggleable__label {\n",
       "  /* fitted */\n",
       "  background-color: var(--sklearn-color-fitted-level-2);\n",
       "}\n",
       "\n",
       "#sk-container-id-1 div.sk-label label.sk-toggleable__label,\n",
       "#sk-container-id-1 div.sk-label label {\n",
       "  /* The background is the default theme color */\n",
       "  color: var(--sklearn-color-text-on-default-background);\n",
       "}\n",
       "\n",
       "/* On hover, darken the color of the background */\n",
       "#sk-container-id-1 div.sk-label:hover label.sk-toggleable__label {\n",
       "  color: var(--sklearn-color-text);\n",
       "  background-color: var(--sklearn-color-unfitted-level-2);\n",
       "}\n",
       "\n",
       "/* Label box, darken color on hover, fitted */\n",
       "#sk-container-id-1 div.sk-label.fitted:hover label.sk-toggleable__label.fitted {\n",
       "  color: var(--sklearn-color-text);\n",
       "  background-color: var(--sklearn-color-fitted-level-2);\n",
       "}\n",
       "\n",
       "/* Estimator label */\n",
       "\n",
       "#sk-container-id-1 div.sk-label label {\n",
       "  font-family: monospace;\n",
       "  font-weight: bold;\n",
       "  display: inline-block;\n",
       "  line-height: 1.2em;\n",
       "}\n",
       "\n",
       "#sk-container-id-1 div.sk-label-container {\n",
       "  text-align: center;\n",
       "}\n",
       "\n",
       "/* Estimator-specific */\n",
       "#sk-container-id-1 div.sk-estimator {\n",
       "  font-family: monospace;\n",
       "  border: 1px dotted var(--sklearn-color-border-box);\n",
       "  border-radius: 0.25em;\n",
       "  box-sizing: border-box;\n",
       "  margin-bottom: 0.5em;\n",
       "  /* unfitted */\n",
       "  background-color: var(--sklearn-color-unfitted-level-0);\n",
       "}\n",
       "\n",
       "#sk-container-id-1 div.sk-estimator.fitted {\n",
       "  /* fitted */\n",
       "  background-color: var(--sklearn-color-fitted-level-0);\n",
       "}\n",
       "\n",
       "/* on hover */\n",
       "#sk-container-id-1 div.sk-estimator:hover {\n",
       "  /* unfitted */\n",
       "  background-color: var(--sklearn-color-unfitted-level-2);\n",
       "}\n",
       "\n",
       "#sk-container-id-1 div.sk-estimator.fitted:hover {\n",
       "  /* fitted */\n",
       "  background-color: var(--sklearn-color-fitted-level-2);\n",
       "}\n",
       "\n",
       "/* Specification for estimator info (e.g. \"i\" and \"?\") */\n",
       "\n",
       "/* Common style for \"i\" and \"?\" */\n",
       "\n",
       ".sk-estimator-doc-link,\n",
       "a:link.sk-estimator-doc-link,\n",
       "a:visited.sk-estimator-doc-link {\n",
       "  float: right;\n",
       "  font-size: smaller;\n",
       "  line-height: 1em;\n",
       "  font-family: monospace;\n",
       "  background-color: var(--sklearn-color-background);\n",
       "  border-radius: 1em;\n",
       "  height: 1em;\n",
       "  width: 1em;\n",
       "  text-decoration: none !important;\n",
       "  margin-left: 1ex;\n",
       "  /* unfitted */\n",
       "  border: var(--sklearn-color-unfitted-level-1) 1pt solid;\n",
       "  color: var(--sklearn-color-unfitted-level-1);\n",
       "}\n",
       "\n",
       ".sk-estimator-doc-link.fitted,\n",
       "a:link.sk-estimator-doc-link.fitted,\n",
       "a:visited.sk-estimator-doc-link.fitted {\n",
       "  /* fitted */\n",
       "  border: var(--sklearn-color-fitted-level-1) 1pt solid;\n",
       "  color: var(--sklearn-color-fitted-level-1);\n",
       "}\n",
       "\n",
       "/* On hover */\n",
       "div.sk-estimator:hover .sk-estimator-doc-link:hover,\n",
       ".sk-estimator-doc-link:hover,\n",
       "div.sk-label-container:hover .sk-estimator-doc-link:hover,\n",
       ".sk-estimator-doc-link:hover {\n",
       "  /* unfitted */\n",
       "  background-color: var(--sklearn-color-unfitted-level-3);\n",
       "  color: var(--sklearn-color-background);\n",
       "  text-decoration: none;\n",
       "}\n",
       "\n",
       "div.sk-estimator.fitted:hover .sk-estimator-doc-link.fitted:hover,\n",
       ".sk-estimator-doc-link.fitted:hover,\n",
       "div.sk-label-container:hover .sk-estimator-doc-link.fitted:hover,\n",
       ".sk-estimator-doc-link.fitted:hover {\n",
       "  /* fitted */\n",
       "  background-color: var(--sklearn-color-fitted-level-3);\n",
       "  color: var(--sklearn-color-background);\n",
       "  text-decoration: none;\n",
       "}\n",
       "\n",
       "/* Span, style for the box shown on hovering the info icon */\n",
       ".sk-estimator-doc-link span {\n",
       "  display: none;\n",
       "  z-index: 9999;\n",
       "  position: relative;\n",
       "  font-weight: normal;\n",
       "  right: .2ex;\n",
       "  padding: .5ex;\n",
       "  margin: .5ex;\n",
       "  width: min-content;\n",
       "  min-width: 20ex;\n",
       "  max-width: 50ex;\n",
       "  color: var(--sklearn-color-text);\n",
       "  box-shadow: 2pt 2pt 4pt #999;\n",
       "  /* unfitted */\n",
       "  background: var(--sklearn-color-unfitted-level-0);\n",
       "  border: .5pt solid var(--sklearn-color-unfitted-level-3);\n",
       "}\n",
       "\n",
       ".sk-estimator-doc-link.fitted span {\n",
       "  /* fitted */\n",
       "  background: var(--sklearn-color-fitted-level-0);\n",
       "  border: var(--sklearn-color-fitted-level-3);\n",
       "}\n",
       "\n",
       ".sk-estimator-doc-link:hover span {\n",
       "  display: block;\n",
       "}\n",
       "\n",
       "/* \"?\"-specific style due to the `<a>` HTML tag */\n",
       "\n",
       "#sk-container-id-1 a.estimator_doc_link {\n",
       "  float: right;\n",
       "  font-size: 1rem;\n",
       "  line-height: 1em;\n",
       "  font-family: monospace;\n",
       "  background-color: var(--sklearn-color-background);\n",
       "  border-radius: 1rem;\n",
       "  height: 1rem;\n",
       "  width: 1rem;\n",
       "  text-decoration: none;\n",
       "  /* unfitted */\n",
       "  color: var(--sklearn-color-unfitted-level-1);\n",
       "  border: var(--sklearn-color-unfitted-level-1) 1pt solid;\n",
       "}\n",
       "\n",
       "#sk-container-id-1 a.estimator_doc_link.fitted {\n",
       "  /* fitted */\n",
       "  border: var(--sklearn-color-fitted-level-1) 1pt solid;\n",
       "  color: var(--sklearn-color-fitted-level-1);\n",
       "}\n",
       "\n",
       "/* On hover */\n",
       "#sk-container-id-1 a.estimator_doc_link:hover {\n",
       "  /* unfitted */\n",
       "  background-color: var(--sklearn-color-unfitted-level-3);\n",
       "  color: var(--sklearn-color-background);\n",
       "  text-decoration: none;\n",
       "}\n",
       "\n",
       "#sk-container-id-1 a.estimator_doc_link.fitted:hover {\n",
       "  /* fitted */\n",
       "  background-color: var(--sklearn-color-fitted-level-3);\n",
       "}\n",
       "</style><div id=\"sk-container-id-1\" class=\"sk-top-container\"><div class=\"sk-text-repr-fallback\"><pre>GridSearchCV(estimator=RandomForestClassifier(),\n",
       "             param_grid={&#x27;criterion&#x27;: [&#x27;gini&#x27;, &#x27;entropy&#x27;],\n",
       "                         &#x27;max_features&#x27;: [&#x27;sqrt&#x27;, &#x27;log2&#x27;],\n",
       "                         &#x27;n_estimators&#x27;: [50, 100]})</pre><b>In a Jupyter environment, please rerun this cell to show the HTML representation or trust the notebook. <br />On GitHub, the HTML representation is unable to render, please try loading this page with nbviewer.org.</b></div><div class=\"sk-container\" hidden><div class=\"sk-item sk-dashed-wrapped\"><div class=\"sk-label-container\"><div class=\"sk-label fitted sk-toggleable\"><input class=\"sk-toggleable__control sk-hidden--visually\" id=\"sk-estimator-id-1\" type=\"checkbox\" ><label for=\"sk-estimator-id-1\" class=\"sk-toggleable__label fitted sk-toggleable__label-arrow fitted\">&nbsp;&nbsp;GridSearchCV<a class=\"sk-estimator-doc-link fitted\" rel=\"noreferrer\" target=\"_blank\" href=\"https://scikit-learn.org/1.4/modules/generated/sklearn.model_selection.GridSearchCV.html\">?<span>Documentation for GridSearchCV</span></a><span class=\"sk-estimator-doc-link fitted\">i<span>Fitted</span></span></label><div class=\"sk-toggleable__content fitted\"><pre>GridSearchCV(estimator=RandomForestClassifier(),\n",
       "             param_grid={&#x27;criterion&#x27;: [&#x27;gini&#x27;, &#x27;entropy&#x27;],\n",
       "                         &#x27;max_features&#x27;: [&#x27;sqrt&#x27;, &#x27;log2&#x27;],\n",
       "                         &#x27;n_estimators&#x27;: [50, 100]})</pre></div> </div></div><div class=\"sk-parallel\"><div class=\"sk-parallel-item\"><div class=\"sk-item\"><div class=\"sk-label-container\"><div class=\"sk-label fitted sk-toggleable\"><input class=\"sk-toggleable__control sk-hidden--visually\" id=\"sk-estimator-id-2\" type=\"checkbox\" ><label for=\"sk-estimator-id-2\" class=\"sk-toggleable__label fitted sk-toggleable__label-arrow fitted\">estimator: RandomForestClassifier</label><div class=\"sk-toggleable__content fitted\"><pre>RandomForestClassifier()</pre></div> </div></div><div class=\"sk-serial\"><div class=\"sk-item\"><div class=\"sk-estimator fitted sk-toggleable\"><input class=\"sk-toggleable__control sk-hidden--visually\" id=\"sk-estimator-id-3\" type=\"checkbox\" ><label for=\"sk-estimator-id-3\" class=\"sk-toggleable__label fitted sk-toggleable__label-arrow fitted\">&nbsp;RandomForestClassifier<a class=\"sk-estimator-doc-link fitted\" rel=\"noreferrer\" target=\"_blank\" href=\"https://scikit-learn.org/1.4/modules/generated/sklearn.ensemble.RandomForestClassifier.html\">?<span>Documentation for RandomForestClassifier</span></a></label><div class=\"sk-toggleable__content fitted\"><pre>RandomForestClassifier()</pre></div> </div></div></div></div></div></div></div></div></div>"
      ],
      "text/plain": [
       "GridSearchCV(estimator=RandomForestClassifier(),\n",
       "             param_grid={'criterion': ['gini', 'entropy'],\n",
       "                         'max_features': ['sqrt', 'log2'],\n",
       "                         'n_estimators': [50, 100]})"
      ]
     },
     "execution_count": 130,
     "metadata": {},
     "output_type": "execute_result"
    }
   ],
   "source": [
    "grid.fit(x_train,y_train)"
   ]
  },
  {
   "cell_type": "code",
   "execution_count": 132,
   "id": "587b6ddf-a768-4437-b043-2d814160e506",
   "metadata": {},
   "outputs": [
    {
     "data": {
      "text/plain": [
       "{'criterion': 'gini', 'max_features': 'log2', 'n_estimators': 50}"
      ]
     },
     "execution_count": 132,
     "metadata": {},
     "output_type": "execute_result"
    }
   ],
   "source": [
    "grid.best_params_"
   ]
  },
  {
   "cell_type": "code",
   "execution_count": 137,
   "id": "0aa6d81b-1b3e-44f5-831a-1499c1308311",
   "metadata": {},
   "outputs": [],
   "source": [
    "rf_new=RandomForestClassifier(criterion='gini',max_features='log2',n_estimators=100)"
   ]
  },
  {
   "cell_type": "code",
   "execution_count": 141,
   "id": "4a6e3819-9e7b-4bb8-a310-57cf80c0c489",
   "metadata": {},
   "outputs": [],
   "source": [
    "rf_new.fit(x_train,y_train)\n",
    "y_pred=rf_new.predict(x_test)\n",
    "accuracy_score=(y_test,y_pred)\n"
   ]
  },
  {
   "cell_type": "code",
   "execution_count": 143,
   "id": "e8d8ccd3-9958-4ec4-9991-957ebbf89569",
   "metadata": {},
   "outputs": [
    {
     "data": {
      "text/html": [
       "<div>\n",
       "<style scoped>\n",
       "    .dataframe tbody tr th:only-of-type {\n",
       "        vertical-align: middle;\n",
       "    }\n",
       "\n",
       "    .dataframe tbody tr th {\n",
       "        vertical-align: top;\n",
       "    }\n",
       "\n",
       "    .dataframe thead th {\n",
       "        text-align: right;\n",
       "    }\n",
       "</style>\n",
       "<table border=\"1\" class=\"dataframe\">\n",
       "  <thead>\n",
       "    <tr style=\"text-align: right;\">\n",
       "      <th></th>\n",
       "      <th>Temp_C</th>\n",
       "      <th>Dew Point Temp_C</th>\n",
       "      <th>Rel Hum_%</th>\n",
       "      <th>Wind Speed_km/h</th>\n",
       "      <th>Visibility_km</th>\n",
       "      <th>Press_kPa</th>\n",
       "      <th>Std_Weather</th>\n",
       "    </tr>\n",
       "  </thead>\n",
       "  <tbody>\n",
       "    <tr>\n",
       "      <th>1140</th>\n",
       "      <td>2.6</td>\n",
       "      <td>-4.1</td>\n",
       "      <td>61</td>\n",
       "      <td>24</td>\n",
       "      <td>24.1</td>\n",
       "      <td>100.71</td>\n",
       "      <td>1</td>\n",
       "    </tr>\n",
       "    <tr>\n",
       "      <th>7550</th>\n",
       "      <td>5.6</td>\n",
       "      <td>-7.6</td>\n",
       "      <td>38</td>\n",
       "      <td>4</td>\n",
       "      <td>48.3</td>\n",
       "      <td>102.37</td>\n",
       "      <td>1</td>\n",
       "    </tr>\n",
       "    <tr>\n",
       "      <th>3731</th>\n",
       "      <td>13.1</td>\n",
       "      <td>7.4</td>\n",
       "      <td>68</td>\n",
       "      <td>28</td>\n",
       "      <td>24.1</td>\n",
       "      <td>100.67</td>\n",
       "      <td>1</td>\n",
       "    </tr>\n",
       "    <tr>\n",
       "      <th>3915</th>\n",
       "      <td>20.2</td>\n",
       "      <td>14.3</td>\n",
       "      <td>69</td>\n",
       "      <td>17</td>\n",
       "      <td>25.0</td>\n",
       "      <td>101.00</td>\n",
       "      <td>1</td>\n",
       "    </tr>\n",
       "    <tr>\n",
       "      <th>6352</th>\n",
       "      <td>19.0</td>\n",
       "      <td>14.1</td>\n",
       "      <td>73</td>\n",
       "      <td>6</td>\n",
       "      <td>24.1</td>\n",
       "      <td>100.89</td>\n",
       "      <td>1</td>\n",
       "    </tr>\n",
       "  </tbody>\n",
       "</table>\n",
       "</div>"
      ],
      "text/plain": [
       "      Temp_C  Dew Point Temp_C  Rel Hum_%  Wind Speed_km/h  Visibility_km  \\\n",
       "1140     2.6              -4.1         61               24           24.1   \n",
       "7550     5.6              -7.6         38                4           48.3   \n",
       "3731    13.1               7.4         68               28           24.1   \n",
       "3915    20.2              14.3         69               17           25.0   \n",
       "6352    19.0              14.1         73                6           24.1   \n",
       "\n",
       "      Press_kPa  Std_Weather  \n",
       "1140     100.71            1  \n",
       "7550     102.37            1  \n",
       "3731     100.67            1  \n",
       "3915     101.00            1  \n",
       "6352     100.89            1  "
      ]
     },
     "execution_count": 143,
     "metadata": {},
     "output_type": "execute_result"
    }
   ],
   "source": [
    "wd.head()"
   ]
  },
  {
   "cell_type": "code",
   "execution_count": 145,
   "id": "e0d7a1cf-c8c8-486c-b325-6de0f45870b7",
   "metadata": {},
   "outputs": [
    {
     "name": "stdin",
     "output_type": "stream",
     "text": [
      "Enter the temp C=  12\n",
      "Enter Dewpoint=  -10.2\n",
      "Enter relative humidity=  64\n",
      "Enter Wind speed=  20\n",
      "Enter visibilty_km= 19\n",
      "Enter Pressure=  100.2\n"
     ]
    }
   ],
   "source": [
    "Temp=float(input(\"Enter the temp C= \"))\n",
    "dp=float(input(\"Enter Dewpoint= \"))\n",
    "rh=float(input(\"Enter relative humidity= \"))\n",
    "ws=float(input(\"Enter Wind speed= \"))\n",
    "v=float(input(\"Enter visibilty_km=\" ))\n",
    "p=float(input(\"Enter Pressure= \"))\n"
   ]
  },
  {
   "cell_type": "code",
   "execution_count": null,
   "id": "d41241f9-3dd9-4eb5-b0fc-49d77fcf0b9e",
   "metadata": {},
   "outputs": [],
   "source": [
    "inp=[Temp,dp,rh,ws,v,p]\n",
    "scale=std.scaler.transform([inp])\n",
    "pred=rf_new.predict(scale)\n",
    "pred"
   ]
  },
  {
   "cell_type": "code",
   "execution_count": null,
   "id": "b6b50732-f345-47c7-afe3-7af32f9ed1fa",
   "metadata": {},
   "outputs": [],
   "source": [
    "if pred[0]==0:\n",
    "    print(\"Weather is CLEAR\")\n",
    "elif pred[0]==1:\n",
    "    print(\"Weather is CLOUDY\")\n",
    "elif pred[0]==2:\n",
    "    print(\"Weather is RAINY\")\n",
    "else:\n",
    "    print(\"Weather is SNOWY\")\n",
    "    "
   ]
  },
  {
   "cell_type": "code",
   "execution_count": null,
   "id": "2d10c7fe-2915-4a44-9165-6ab1b44f4b96",
   "metadata": {},
   "outputs": [],
   "source": [
    "# The Complete Weather Predictive System - RF model"
   ]
  },
  {
   "cell_type": "code",
   "execution_count": 149,
   "id": "9400d169-1655-49b3-83d7-c7b054a6292e",
   "metadata": {},
   "outputs": [
    {
     "name": "stdin",
     "output_type": "stream",
     "text": [
      "Enter the temp C=  12\n",
      "Enter Dewpoint=  -10.2\n",
      "Enter relative humidity=  64\n",
      "Enter Wind speed=  20\n",
      "Enter visibilty_km= 19\n",
      "Enter Pressure=  100.2\n"
     ]
    },
    {
     "name": "stdout",
     "output_type": "stream",
     "text": [
      "\n",
      "* * * * * * * WEATHER PREDICTION MACHINE LEARNING MODEL * * * * * * * * *\n",
      "\n",
      "Weather is SNOWY\n"
     ]
    }
   ],
   "source": [
    "Temp=float(input(\"Enter the temp C= \"))\n",
    "dp=float(input(\"Enter Dewpoint= \"))\n",
    "rh=float(input(\"Enter relative humidity= \"))\n",
    "ws=float(input(\"Enter Wind speed= \"))\n",
    "v=float(input(\"Enter visibilty_km=\" ))\n",
    "p=float(input(\"Enter Pressure= \"))\n",
    "\n",
    "\n",
    "inp=[Temp,dp,rh,ws,v,p]\n",
    "scale=stdscale.transform([inp])\n",
    "pred=rf_new.predict(scale)\n",
    "pred\n",
    "\n",
    "print(\"\")\n",
    "print( \"* * * * * * * WEATHER PREDICTION MACHINE LEARNING MODEL * * * * * * * * *\")\n",
    "print (\"\")\n",
    "\n",
    "\n",
    "if pred[0]==0:\n",
    "    print(\"Weather is CLEAR\")\n",
    "elif pred[0]==1:\n",
    "    print(\"Weather is CLOUDY\")\n",
    "elif pred[0]==2:\n",
    "    print(\"Weather is RAINY\")\n",
    "else:\n",
    "    print(\"Weather is SNOWY\")\n",
    "    "
   ]
  },
  {
   "cell_type": "code",
   "execution_count": null,
   "id": "662758bf-b7a5-4224-9923-765de6f09bf2",
   "metadata": {},
   "outputs": [],
   "source": []
  },
  {
   "cell_type": "code",
   "execution_count": null,
   "id": "f60fa2eb-7f75-42cf-b33d-6faf0a7a98cf",
   "metadata": {},
   "outputs": [],
   "source": []
  },
  {
   "cell_type": "code",
   "execution_count": null,
   "id": "84b68f3e-e0d5-482b-9638-6fa214dae24c",
   "metadata": {},
   "outputs": [],
   "source": []
  },
  {
   "cell_type": "code",
   "execution_count": null,
   "id": "f3e1f5bd-faa0-4b84-a120-acd82b30a999",
   "metadata": {},
   "outputs": [],
   "source": []
  },
  {
   "cell_type": "code",
   "execution_count": null,
   "id": "6cf57551-436b-4649-865e-65c12b4018bd",
   "metadata": {},
   "outputs": [],
   "source": []
  }
 ],
 "metadata": {
  "kernelspec": {
   "display_name": "Python 3 (ipykernel)",
   "language": "python",
   "name": "python3"
  },
  "language_info": {
   "codemirror_mode": {
    "name": "ipython",
    "version": 3
   },
   "file_extension": ".py",
   "mimetype": "text/x-python",
   "name": "python",
   "nbconvert_exporter": "python",
   "pygments_lexer": "ipython3",
   "version": "3.12.4"
  }
 },
 "nbformat": 4,
 "nbformat_minor": 5
}
