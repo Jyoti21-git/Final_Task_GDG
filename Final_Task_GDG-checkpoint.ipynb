{
 "cells": [
  {
   "cell_type": "markdown",
   "id": "7f47e83c-4d4d-44c0-8ccc-99db07d0ce87",
   "metadata": {},
   "source": [
    "# Importing Libraries"
   ]
  },
  {
   "cell_type": "code",
   "execution_count": 1,
   "id": "c59eae30-9be6-43ca-9f2b-ba17bb2310da",
   "metadata": {},
   "outputs": [
    {
     "ename": "ModuleNotFoundError",
     "evalue": "No module named 'wordcloud'",
     "output_type": "error",
     "traceback": [
      "\u001b[1;31m---------------------------------------------------------------------------\u001b[0m",
      "\u001b[1;31mModuleNotFoundError\u001b[0m                       Traceback (most recent call last)",
      "Cell \u001b[1;32mIn[1], line 1\u001b[0m\n\u001b[1;32m----> 1\u001b[0m \u001b[38;5;28;01mfrom\u001b[39;00m \u001b[38;5;21;01mwordcloud\u001b[39;00m \u001b[38;5;28;01mimport\u001b[39;00m WordCloud\n\u001b[0;32m      2\u001b[0m \u001b[38;5;28;01mimport\u001b[39;00m \u001b[38;5;21;01mmatplotlib\u001b[39;00m\u001b[38;5;21;01m.\u001b[39;00m\u001b[38;5;21;01mpyplot\u001b[39;00m \u001b[38;5;28;01mas\u001b[39;00m \u001b[38;5;21;01mplt\u001b[39;00m\n",
      "\u001b[1;31mModuleNotFoundError\u001b[0m: No module named 'wordcloud'"
     ]
    }
   ],
   "source": [
    "from wordcloud import WordCloud\n",
    "import matplotlib.pyplot as plt"
   ]
  },
  {
   "cell_type": "markdown",
   "id": "fb792905-5d83-40a0-8384-cbd576d2eef8",
   "metadata": {},
   "source": [
    "# Information"
   ]
  },
  {
   "cell_type": "code",
   "execution_count": null,
   "id": "5a530d4c-c5a8-4261-8dc1-5f6bf8d3583c",
   "metadata": {},
   "outputs": [],
   "source": [
    "info = \"\"\"\n",
    "Google Developer Group (GDG) on Campus is a community group for students interested in Google developer technologies: \n",
    "What it offers\n",
    "Students can access resources, events, and opportunities to learn, build their network, and work on projects: \n",
    "Learning: Students can learn from industry experts and mentors, and gain hands-on experience through workshops and codelabs \n",
    "Networking: Students can connect with peers, industry professionals, and Google Developer Experts \n",
    "Projects: Students can work on collaborative projects to solve real-world problems\n",
    "\"\"\""
   ]
  },
  {
   "cell_type": "code",
   "execution_count": null,
   "id": "b9467118-1d56-4a01-b184-88c1cf695b07",
   "metadata": {},
   "outputs": [],
   "source": [
    "wordcloud = WordCloud(width=800, height=400, background_color='white').generate(info)\n"
   ]
  },
  {
   "cell_type": "markdown",
   "id": "f66882cb-d11c-46a8-bd67-a7fdf7014327",
   "metadata": {},
   "source": [
    "# Display the word cloud"
   ]
  },
  {
   "cell_type": "code",
   "execution_count": null,
   "id": "4598cacd-a1f8-450b-91a5-48d6ff9437d0",
   "metadata": {},
   "outputs": [],
   "source": [
    "plt.figure(figsize=(10, 5))\n",
    "plt.imshow(wordcloud, interpolation='bilinear')\n",
    "plt.axis('off')\n",
    "plt.title(\"Word Cloud: GDG on Campus\")\n",
    "plt.show()"
   ]
  },
  {
   "cell_type": "code",
   "execution_count": null,
   "id": "1266d6f0-9ce9-41fc-a1b7-7e7fc1522de3",
   "metadata": {},
   "outputs": [],
   "source": [
    "import networkx as nx\n",
    "import matplotlib.pyplot as plt\n"
   ]
  },
  {
   "cell_type": "markdown",
   "id": "2ed90f60-6ccd-4b53-802d-7b7f8ecae42d",
   "metadata": {},
   "source": [
    "# Create a graph\n"
   ]
  },
  {
   "cell_type": "code",
   "execution_count": null,
   "id": "dfb420f1-78dc-4290-b755-c8460c736813",
   "metadata": {},
   "outputs": [],
   "source": [
    "G = nx.DiGraph()"
   ]
  },
  {
   "cell_type": "markdown",
   "id": "712f27d3-e4fc-411b-be7e-16f7b9801e38",
   "metadata": {},
   "source": [
    "# Nodes and mini nodes\n"
   ]
  },
  {
   "cell_type": "code",
   "execution_count": null,
   "id": "8e5ad95c-7965-4d76-ab06-e6a36bf74d60",
   "metadata": {},
   "outputs": [],
   "source": [
    "G.add_node(\"GDG on Campus\")\n",
    "G.add_node(\"Learning\")\n",
    "G.add_node(\"Networking\")\n",
    "G.add_node(\"Projects\")\n",
    "G.add_node(\"Industry Experts\")\n",
    "G.add_node(\"Workshops\")\n",
    "G.add_node(\"Codelabs\")\n",
    "G.add_node(\"Google Developer Experts\")\n",
    "G.add_node(\"Collaborative Projects\")\n",
    "G.add_node(\"Real-World Problems\")"
   ]
  },
  {
   "cell_type": "markdown",
   "id": "ad5023aa-6f72-4400-8402-4dc32335b36d",
   "metadata": {},
   "source": [
    "# Connecting the nodes\n"
   ]
  },
  {
   "cell_type": "code",
   "execution_count": null,
   "id": "5c6d5eeb-49cf-48ac-8569-b3c2a838a673",
   "metadata": {},
   "outputs": [],
   "source": [
    "G.add_edges_from([(\"GDG on Campus\", \"Learning\"),\n",
    "                 (\"GDG on Campus\", \"Networking\"),\n",
    "                 (\"GDG on Campus\", \"Projects\"),\n",
    "                 (\"Learning\", \"Industry Experts\"),\n",
    "                 (\"Learning\", \"Workshops\"),\n",
    "                 (\"Learning\", \"Codelabs\"),\n",
    "                 (\"Networking\", \"Google Developer Experts\"),\n",
    "                 (\"Projects\", \"Collaborative Projects\"),\n",
    "                 (\"Projects\", \"Real-World Problems\")])"
   ]
  },
  {
   "cell_type": "markdown",
   "id": "2171a287-3da5-4117-a5b7-fc6b1e6fe409",
   "metadata": {},
   "source": [
    "# Draw the mind map\n"
   ]
  },
  {
   "cell_type": "code",
   "execution_count": null,
   "id": "dbc743e3-c869-4685-a25e-b98c7288ed3d",
   "metadata": {},
   "outputs": [],
   "source": [
    "plt.figure(figsize=(10, 7))\n",
    "nx.draw_networkx(G, with_labels=True, node_size=3000, node_color=\"lightblue\", font_size=10, font_weight='bold', edge_color=\"gray\")\n",
    "plt.title(\"Mind Map: Google Developer Group (GDG) on Campus\")\n",
    "plt.show()"
   ]
  },
  {
   "cell_type": "markdown",
   "id": "f4f74d77-7ef5-4442-b33c-8401b72c84dd",
   "metadata": {},
   "source": [
    "# Bar Chart for Topics' Frequency"
   ]
  },
  {
   "cell_type": "code",
   "execution_count": null,
   "id": "0e592012-e554-4c9c-8ea2-572ab2aee1b2",
   "metadata": {},
   "outputs": [],
   "source": [
    "import matplotlib.pyplot as plt\n",
    "\n",
    "# Categories and their respective frequency counts (based on mentions in the text)\n",
    "categories = [\"Learning\", \"Networking\", \"Projects\"]\n",
    "frequencies = [3, 2, 2]  \n"
   ]
  },
  {
   "cell_type": "code",
   "execution_count": null,
   "id": "1ecc31d6-b648-4d7d-9474-879e12740b50",
   "metadata": {},
   "outputs": [],
   "source": [
    "# Another Bar\n",
    "plt.figure(figsize=(8, 5))\n",
    "plt.barh(categories, frequencies, color=\"lightcoral\")\n",
    "plt.xlabel('Frequency')\n",
    "plt.ylabel('Categories')\n",
    "plt.title('Category Frequency in GDG on Campus Notes')\n",
    "plt.show()"
   ]
  },
  {
   "cell_type": "code",
   "execution_count": null,
   "id": "b23416f9-ac63-4a28-9c86-9dbb1ad06806",
   "metadata": {},
   "outputs": [],
   "source": [
    "from graphviz import Digraph\n",
    "\n",
    "dot = Digraph(comment='GDG on Campus Decision Flow')\n",
    "\n",
    "dot.node('A', 'Start')\n",
    "dot.node('B', 'Join GDG on Campus')\n",
    "dot.node('C', 'Learn from Industry Experts')\n",
    "dot.node('D', 'Attend Workshops and Codelabs')\n",
    "dot.node('E', 'Do you want to Network?')\n",
    "dot.node('F', 'Network with Peers and Professionals')\n",
    "dot.node('G', 'Collaborate on Projects')\n",
    "dot.node('H', 'Solve Real-World Problems')\n",
    "dot.node('I', 'End')\n",
    "\n",
    "dot.node('J', 'Yes')\n",
    "dot.node('K', 'No')\n",
    "\n",
    "dot.edge('A', 'B')\n",
    "dot.edge('B', 'C')\n",
    "dot.edge('C', 'D')\n",
    "dot.edge('D', 'E')\n",
    "dot.edge('E', 'F', label='Yes')\n",
    "dot.edge('E', 'G', label='No')\n",
    "dot.edge('F', 'G')\n",
    "dot.edge('G', 'H')\n",
    "dot.edge('H', 'I')\n",
    "\n",
    "dot.render('gdg_on_campus_flow_diagram', format='png', cleanup=True)\n",
    "\n",
    "# Display the flow diagram using PIL (Python Imaging Library)\n",
    "from PIL import Image\n",
    "Image.open('gdg_on_campus_flow_diagram.png').show()"
   ]
  },
  {
   "cell_type": "markdown",
   "id": "18654753-c7e9-42e6-a437-94d26fdd12f2",
   "metadata": {},
   "source": [
    "# Question Generating"
   ]
  },
  {
   "cell_type": "code",
   "execution_count": null,
   "id": "f567dc84-440a-4c97-809d-3dd6c6734e1b",
   "metadata": {},
   "outputs": [],
   "source": []
  },
  {
   "cell_type": "code",
   "execution_count": null,
   "id": "464ff17a-c4b4-483e-ba9b-048cd4c72c93",
   "metadata": {},
   "outputs": [],
   "source": []
  },
  {
   "cell_type": "code",
   "execution_count": null,
   "id": "7a0698d7-38ee-4074-af61-26be10e8ce62",
   "metadata": {},
   "outputs": [],
   "source": []
  },
  {
   "cell_type": "code",
   "execution_count": null,
   "id": "790a8761-0706-418a-99e2-6ab042268c1e",
   "metadata": {},
   "outputs": [],
   "source": []
  },
  {
   "cell_type": "code",
   "execution_count": null,
   "id": "85b014c3-408b-4323-9beb-4a0b99b4926a",
   "metadata": {},
   "outputs": [],
   "source": []
  },
  {
   "cell_type": "code",
   "execution_count": null,
   "id": "af42b3f9-ea47-4bcb-bf73-760cc5c85269",
   "metadata": {},
   "outputs": [],
   "source": []
  },
  {
   "cell_type": "code",
   "execution_count": null,
   "id": "ae8b7faf-ad5c-4d79-a01a-f3e331f503ed",
   "metadata": {},
   "outputs": [],
   "source": []
  },
  {
   "cell_type": "code",
   "execution_count": null,
   "id": "6809051e-15dd-491b-8f54-c8519fe0fc59",
   "metadata": {},
   "outputs": [],
   "source": []
  },
  {
   "cell_type": "code",
   "execution_count": null,
   "id": "bdfa5da5-a9ee-408e-835e-c81fb9c7ef5c",
   "metadata": {},
   "outputs": [],
   "source": []
  }
 ],
 "metadata": {
  "kernelspec": {
   "display_name": "Python 3 (ipykernel)",
   "language": "python",
   "name": "python3"
  },
  "language_info": {
   "codemirror_mode": {
    "name": "ipython",
    "version": 3
   },
   "file_extension": ".py",
   "mimetype": "text/x-python",
   "name": "python",
   "nbconvert_exporter": "python",
   "pygments_lexer": "ipython3",
   "version": "3.12.4"
  }
 },
 "nbformat": 4,
 "nbformat_minor": 5
}
